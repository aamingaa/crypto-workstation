{
 "cells": [
  {
   "cell_type": "code",
   "execution_count": 8,
   "metadata": {},
   "outputs": [],
   "source": [
    "# 对高频因子进行降频处理"
   ]
  },
  {
   "cell_type": "code",
   "execution_count": 9,
   "metadata": {},
   "outputs": [],
   "source": [
    "import pandas as pd\n",
    "import numpy as np"
   ]
  },
  {
   "cell_type": "code",
   "execution_count": 10,
   "metadata": {},
   "outputs": [],
   "source": [
    "z = pd.read_hdf('/Users/aming/project/python/课程代码合集/高频因子的思考和设计_2/data/jm2401.h5')"
   ]
  },
  {
   "cell_type": "code",
   "execution_count": 11,
   "metadata": {},
   "outputs": [],
   "source": [
    "# 計算odb因子\n",
    "def orderbook_imbalance(z:pd.DataFrame,n:int = 3) -> pd.Series:\n",
    "    '''订单薄失衡'''\n",
    "    # 计算bid一侧\n",
    "    bid_p_previous = z[f'bp1'].shift(1)\n",
    "    bid_p_current = z[f'bp1']\n",
    "    # 当前bid price大于上一刻的bid price,增量为当前的挂单量也就是bid_v\n",
    "    delta_v1 = (bid_p_current > bid_p_previous) * z['bv1']\n",
    "    # 当前bid price小于上一刻的bid price,增量为前一刻被成交的量取负数\n",
    "    delta_v2 = (bid_p_current < bid_p_previous) * z['bv1'].shift(1) * -1.\n",
    "    # 当前bid price等于上一刻的bid price,增量为当前的挂单量减去前一刻的挂单量\n",
    "    delta_v3 = (bid_p_current == bid_p_previous) * (z['bv1'] - z['bv1'].shift(1))\n",
    "    # 三者相加，得到最终的delta_v\n",
    "    delta_bid_v = delta_v1 + delta_v2 + delta_v3\n",
    "\n",
    "    # 计算ask一侧\n",
    "    ask_p_previous = z['ap1'].shift(1)\n",
    "    ask_p_current = z['ap1']\n",
    "    # 当前ask price大于上一刻的ask price,增量为前一刻被成交量取负数\n",
    "    delta_v1 = (ask_p_current > ask_p_previous) * z['av1'].shift(1) * -1.\n",
    "    # 当前aid price小于上一刻的aid price,增量为当前的挂单量也就是bid_v\n",
    "    delta_v2 = (ask_p_current < ask_p_previous) * z['av1']\n",
    "    # 当前ask price等于上一刻的ask price,增量为当前的挂单量减去前一刻的挂单量\n",
    "    delta_v3 = (ask_p_current == ask_p_previous) * (z['av1'] - z['av1'].shift(1))\n",
    "    # 三者相加，得到最终的delta_v\n",
    "    \n",
    "    # (新的高价买单进入 → 买方积极)  + (原有买单被消耗 → 买方力量减弱) + (同价位挂单变化 → 直接计算差值)\n",
    "    delta_ask_v = delta_v1 + delta_v2 + delta_v3\n",
    "\n",
    "    orderbook_imbalance_factor = delta_bid_v - delta_ask_v\n",
    "\n",
    "    return orderbook_imbalance_factor"
   ]
  },
  {
   "cell_type": "code",
   "execution_count": 12,
   "metadata": {},
   "outputs": [],
   "source": [
    "odb_imb = orderbook_imbalance(z)"
   ]
  },
  {
   "cell_type": "code",
   "execution_count": 13,
   "metadata": {},
   "outputs": [
    {
     "data": {
      "text/plain": [
       "time\n",
       "2023-09-04 08:59:00.009     NaN\n",
       "2023-09-04 09:00:00.357    10.0\n",
       "2023-09-04 09:00:00.851     7.0\n",
       "2023-09-04 09:00:01.356    -3.0\n",
       "2023-09-04 09:00:01.835     7.0\n",
       "                           ... \n",
       "2023-09-27 22:59:58.170   -13.0\n",
       "2023-09-27 22:59:58.678    -6.0\n",
       "2023-09-27 22:59:59.160   -14.0\n",
       "2023-09-27 22:59:59.663    17.0\n",
       "2023-09-27 23:00:00.029    -1.0\n",
       "Length: 644454, dtype: float64"
      ]
     },
     "execution_count": 13,
     "metadata": {},
     "output_type": "execute_result"
    }
   ],
   "source": [
    "odb_imb"
   ]
  },
  {
   "cell_type": "code",
   "execution_count": 14,
   "metadata": {},
   "outputs": [
    {
     "data": {
      "text/plain": [
       "time\n",
       "2023-09-04 08:59:00.009         NaN\n",
       "2023-09-04 09:00:00.357         NaN\n",
       "2023-09-04 09:00:00.851         NaN\n",
       "2023-09-04 09:00:01.356         NaN\n",
       "2023-09-04 09:00:01.835         NaN\n",
       "                             ...   \n",
       "2023-09-27 22:59:58.170   -1.067278\n",
       "2023-09-27 22:59:58.678   -0.511624\n",
       "2023-09-27 22:59:59.160   -1.145878\n",
       "2023-09-27 22:59:59.663    1.313759\n",
       "2023-09-27 23:00:00.029   -0.114499\n",
       "Length: 644454, dtype: float64"
      ]
     },
     "execution_count": 14,
     "metadata": {},
     "output_type": "execute_result"
    }
   ],
   "source": [
    "# 滚动标准化z-score\n",
    "import talib as ta\n",
    "mean_ = ta.MA(odb_imb,2000)\n",
    "std_ = ta.STDDEV(odb_imb,2000)\n",
    "# 减去均值是做中心化处理，让因子值围绕均值分布。\n",
    "# 除以标准差是为了缩放\n",
    "(odb_imb-mean_)/std_"
   ]
  },
  {
   "cell_type": "code",
   "execution_count": 15,
   "metadata": {},
   "outputs": [
    {
     "data": {
      "text/plain": [
       "<Axes: >"
      ]
     },
     "execution_count": 15,
     "metadata": {},
     "output_type": "execute_result"
    },
    {
     "data": {
      "image/png": "[encoded data removed]",
      "text/plain": [
       "<Figure size 432x288 with 1 Axes>"
      ]
     },
     "metadata": {
      "needs_background": "light"
     },
     "output_type": "display_data"
    }
   ],
   "source": [
    "# 因子要不要做處理？\n",
    "# 觀察因子的分佈情況\n",
    "odb_imb.hist(bins=100)"
   ]
  },
  {
   "cell_type": "code",
   "execution_count": 16,
   "metadata": {},
   "outputs": [
    {
     "data": {
      "text/plain": [
       "count    644453.000000\n",
       "mean         -0.022439\n",
       "std          16.725068\n",
       "min        -957.000000\n",
       "25%          -3.000000\n",
       "50%           0.000000\n",
       "75%           3.000000\n",
       "max        1270.000000\n",
       "dtype: float64"
      ]
     },
     "execution_count": 16,
     "metadata": {},
     "output_type": "execute_result"
    }
   ],
   "source": [
    "odb_imb.describe()"
   ]
  },
  {
   "cell_type": "code",
   "execution_count": null,
   "metadata": {},
   "outputs": [],
   "source": []
  },
  {
   "cell_type": "code",
   "execution_count": null,
   "metadata": {},
   "outputs": [],
   "source": []
  },
  {
   "cell_type": "code",
   "execution_count": 17,
   "metadata": {},
   "outputs": [
    {
     "name": "stdout",
     "output_type": "stream",
     "text": [
      "95%分位值: 18.0\n",
      "-95%分位值: -19.0\n"
     ]
    }
   ],
   "source": [
    "max_value=odb_imb.quantile(0.95)\n",
    "min_value=odb_imb.quantile(0.05)\n",
    "print(\"95%分位值:\", max_value)\n",
    "print(\"-95%分位值:\",min_value)"
   ]
  },
  {
   "cell_type": "code",
   "execution_count": 18,
   "metadata": {},
   "outputs": [],
   "source": [
    "# 对因子进行裁剪\n",
    "clipped_ = odb_imb.clip(min_value,max_value)"
   ]
  },
  {
   "cell_type": "code",
   "execution_count": 19,
   "metadata": {},
   "outputs": [
    {
     "data": {
      "text/plain": [
       "time\n",
       "2023-09-04 08:59:00.009     NaN\n",
       "2023-09-04 09:00:00.357    10.0\n",
       "2023-09-04 09:00:00.851     7.0\n",
       "2023-09-04 09:00:01.356    -3.0\n",
       "2023-09-04 09:00:01.835     7.0\n",
       "                           ... \n",
       "2023-09-27 22:59:58.170   -13.0\n",
       "2023-09-27 22:59:58.678    -6.0\n",
       "2023-09-27 22:59:59.160   -14.0\n",
       "2023-09-27 22:59:59.663    17.0\n",
       "2023-09-27 23:00:00.029    -1.0\n",
       "Length: 644454, dtype: float64"
      ]
     },
     "execution_count": 19,
     "metadata": {},
     "output_type": "execute_result"
    }
   ],
   "source": [
    "clipped_"
   ]
  },
  {
   "cell_type": "code",
   "execution_count": 20,
   "metadata": {},
   "outputs": [],
   "source": [
    "# index必须是时间戳，label\n",
    "resampled_clipped = clipped_.iloc[1:].resample('1s',label='right').aggregate('sum')"
   ]
  },
  {
   "cell_type": "code",
   "execution_count": 21,
   "metadata": {},
   "outputs": [
    {
     "data": {
      "text/plain": [
       "time\n",
       "2023-09-04 09:00:01    17.0\n",
       "2023-09-04 09:00:02     4.0\n",
       "2023-09-04 09:00:03    20.0\n",
       "2023-09-04 09:00:04    10.0\n",
       "2023-09-04 09:00:05     0.0\n",
       "                       ... \n",
       "2023-09-27 22:59:57   -20.0\n",
       "2023-09-27 22:59:58   -24.0\n",
       "2023-09-27 22:59:59   -19.0\n",
       "2023-09-27 23:00:00     3.0\n",
       "2023-09-27 23:00:01    -1.0\n",
       "Freq: S, Length: 2037601, dtype: float64"
      ]
     },
     "execution_count": 21,
     "metadata": {},
     "output_type": "execute_result"
    }
   ],
   "source": [
    "resampled_clipped"
   ]
  },
  {
   "cell_type": "code",
   "execution_count": 22,
   "metadata": {},
   "outputs": [
    {
     "data": {
      "text/html": [
       "<div>\n",
       "<style scoped>\n",
       "    .dataframe tbody tr th:only-of-type {\n",
       "        vertical-align: middle;\n",
       "    }\n",
       "\n",
       "    .dataframe tbody tr th {\n",
       "        vertical-align: top;\n",
       "    }\n",
       "\n",
       "    .dataframe thead th {\n",
       "        text-align: right;\n",
       "    }\n",
       "</style>\n",
       "<table border=\"1\" class=\"dataframe\">\n",
       "  <thead>\n",
       "    <tr style=\"text-align: right;\">\n",
       "      <th></th>\n",
       "      <th>bp1</th>\n",
       "      <th>bv1</th>\n",
       "      <th>ap1</th>\n",
       "      <th>av1</th>\n",
       "      <th>p</th>\n",
       "      <th>v</th>\n",
       "      <th>a</th>\n",
       "      <th>oi</th>\n",
       "      <th>type</th>\n",
       "    </tr>\n",
       "    <tr>\n",
       "      <th>time</th>\n",
       "      <th></th>\n",
       "      <th></th>\n",
       "      <th></th>\n",
       "      <th></th>\n",
       "      <th></th>\n",
       "      <th></th>\n",
       "      <th></th>\n",
       "      <th></th>\n",
       "      <th></th>\n",
       "    </tr>\n",
       "  </thead>\n",
       "  <tbody>\n",
       "    <tr>\n",
       "      <th>2023-09-04 08:59:00.009</th>\n",
       "      <td>1680.0</td>\n",
       "      <td>274</td>\n",
       "      <td>1680.5</td>\n",
       "      <td>6</td>\n",
       "      <td>1680.0</td>\n",
       "      <td>252</td>\n",
       "      <td>25401600</td>\n",
       "      <td>187905</td>\n",
       "      <td>3</td>\n",
       "    </tr>\n",
       "    <tr>\n",
       "      <th>2023-09-04 09:00:00.357</th>\n",
       "      <td>1681.5</td>\n",
       "      <td>4</td>\n",
       "      <td>1683.0</td>\n",
       "      <td>6</td>\n",
       "      <td>1683.0</td>\n",
       "      <td>125</td>\n",
       "      <td>12610860</td>\n",
       "      <td>187928</td>\n",
       "      <td>3</td>\n",
       "    </tr>\n",
       "    <tr>\n",
       "      <th>2023-09-04 09:00:00.851</th>\n",
       "      <td>1683.5</td>\n",
       "      <td>1</td>\n",
       "      <td>1685.0</td>\n",
       "      <td>47</td>\n",
       "      <td>1684.5</td>\n",
       "      <td>165</td>\n",
       "      <td>16663320</td>\n",
       "      <td>187889</td>\n",
       "      <td>5</td>\n",
       "    </tr>\n",
       "    <tr>\n",
       "      <th>2023-09-04 09:00:01.356</th>\n",
       "      <td>1683.5</td>\n",
       "      <td>2</td>\n",
       "      <td>1684.5</td>\n",
       "      <td>4</td>\n",
       "      <td>1684.5</td>\n",
       "      <td>73</td>\n",
       "      <td>7376160</td>\n",
       "      <td>187856</td>\n",
       "      <td>5</td>\n",
       "    </tr>\n",
       "    <tr>\n",
       "      <th>2023-09-04 09:00:01.835</th>\n",
       "      <td>1684.5</td>\n",
       "      <td>3</td>\n",
       "      <td>1685.0</td>\n",
       "      <td>2</td>\n",
       "      <td>1683.5</td>\n",
       "      <td>121</td>\n",
       "      <td>12227490</td>\n",
       "      <td>187867</td>\n",
       "      <td>4</td>\n",
       "    </tr>\n",
       "    <tr>\n",
       "      <th>...</th>\n",
       "      <td>...</td>\n",
       "      <td>...</td>\n",
       "      <td>...</td>\n",
       "      <td>...</td>\n",
       "      <td>...</td>\n",
       "      <td>...</td>\n",
       "      <td>...</td>\n",
       "      <td>...</td>\n",
       "      <td>...</td>\n",
       "    </tr>\n",
       "    <tr>\n",
       "      <th>2023-09-27 22:59:58.170</th>\n",
       "      <td>1861.0</td>\n",
       "      <td>28</td>\n",
       "      <td>1862.0</td>\n",
       "      <td>6</td>\n",
       "      <td>1862.0</td>\n",
       "      <td>24</td>\n",
       "      <td>2680800</td>\n",
       "      <td>179386</td>\n",
       "      <td>5</td>\n",
       "    </tr>\n",
       "    <tr>\n",
       "      <th>2023-09-27 22:59:58.678</th>\n",
       "      <td>1861.0</td>\n",
       "      <td>25</td>\n",
       "      <td>1861.5</td>\n",
       "      <td>3</td>\n",
       "      <td>1861.0</td>\n",
       "      <td>7</td>\n",
       "      <td>781770</td>\n",
       "      <td>179383</td>\n",
       "      <td>6</td>\n",
       "    </tr>\n",
       "    <tr>\n",
       "      <th>2023-09-27 22:59:59.160</th>\n",
       "      <td>1861.0</td>\n",
       "      <td>14</td>\n",
       "      <td>1861.5</td>\n",
       "      <td>6</td>\n",
       "      <td>1861.0</td>\n",
       "      <td>16</td>\n",
       "      <td>1786710</td>\n",
       "      <td>179383</td>\n",
       "      <td>8</td>\n",
       "    </tr>\n",
       "    <tr>\n",
       "      <th>2023-09-27 22:59:59.663</th>\n",
       "      <td>1861.0</td>\n",
       "      <td>28</td>\n",
       "      <td>1861.5</td>\n",
       "      <td>3</td>\n",
       "      <td>1861.0</td>\n",
       "      <td>6</td>\n",
       "      <td>670080</td>\n",
       "      <td>179381</td>\n",
       "      <td>6</td>\n",
       "    </tr>\n",
       "    <tr>\n",
       "      <th>2023-09-27 23:00:00.029</th>\n",
       "      <td>1861.0</td>\n",
       "      <td>27</td>\n",
       "      <td>1861.5</td>\n",
       "      <td>3</td>\n",
       "      <td>1861.5</td>\n",
       "      <td>4</td>\n",
       "      <td>446730</td>\n",
       "      <td>179380</td>\n",
       "      <td>5</td>\n",
       "    </tr>\n",
       "  </tbody>\n",
       "</table>\n",
       "<p>644454 rows × 9 columns</p>\n",
       "</div>"
      ],
      "text/plain": [
       "                            bp1  bv1     ap1  av1       p    v         a  \\\n",
       "time                                                                       \n",
       "2023-09-04 08:59:00.009  1680.0  274  1680.5    6  1680.0  252  25401600   \n",
       "2023-09-04 09:00:00.357  1681.5    4  1683.0    6  1683.0  125  12610860   \n",
       "2023-09-04 09:00:00.851  1683.5    1  1685.0   47  1684.5  165  16663320   \n",
       "2023-09-04 09:00:01.356  1683.5    2  1684.5    4  1684.5   73   7376160   \n",
       "2023-09-04 09:00:01.835  1684.5    3  1685.0    2  1683.5  121  12227490   \n",
       "...                         ...  ...     ...  ...     ...  ...       ...   \n",
       "2023-09-27 22:59:58.170  1861.0   28  1862.0    6  1862.0   24   2680800   \n",
       "2023-09-27 22:59:58.678  1861.0   25  1861.5    3  1861.0    7    781770   \n",
       "2023-09-27 22:59:59.160  1861.0   14  1861.5    6  1861.0   16   1786710   \n",
       "2023-09-27 22:59:59.663  1861.0   28  1861.5    3  1861.0    6    670080   \n",
       "2023-09-27 23:00:00.029  1861.0   27  1861.5    3  1861.5    4    446730   \n",
       "\n",
       "                             oi  type  \n",
       "time                                   \n",
       "2023-09-04 08:59:00.009  187905     3  \n",
       "2023-09-04 09:00:00.357  187928     3  \n",
       "2023-09-04 09:00:00.851  187889     5  \n",
       "2023-09-04 09:00:01.356  187856     5  \n",
       "2023-09-04 09:00:01.835  187867     4  \n",
       "...                         ...   ...  \n",
       "2023-09-27 22:59:58.170  179386     5  \n",
       "2023-09-27 22:59:58.678  179383     6  \n",
       "2023-09-27 22:59:59.160  179383     8  \n",
       "2023-09-27 22:59:59.663  179381     6  \n",
       "2023-09-27 23:00:00.029  179380     5  \n",
       "\n",
       "[644454 rows x 9 columns]"
      ]
     },
     "execution_count": 22,
     "metadata": {},
     "output_type": "execute_result"
    }
   ],
   "source": [
    "# 对订单薄数据做降采样处理\n",
    "z\n",
    "# 根据切片之间的情况，对切片之间的这笔交易做了一个标记。\n",
    "# 持仓量和价格的联动关系来决定，此时这笔交易属于什么性质\n",
    "# 持仓量上升&价格上升&主买，多开 "
   ]
  },
  {
   "cell_type": "code",
   "execution_count": 23,
   "metadata": {},
   "outputs": [],
   "source": [
    "resampled_z = z.iloc[1:].resample('1s',label='right').aggregate({'bp1':'last',\n",
    "                                                  'bv1':'last',\n",
    "                                                  'ap1':'last',\n",
    "                                                  'av1':'last',\n",
    "                                                  'p':'last',\n",
    "                                                  'v':'sum',\n",
    "                                                  'a':'sum',\n",
    "                                                  'oi':'last',\n",
    "                                                  'type':'last'})"
   ]
  },
  {
   "cell_type": "code",
   "execution_count": 24,
   "metadata": {},
   "outputs": [
    {
     "data": {
      "text/html": [
       "<div>\n",
       "<style scoped>\n",
       "    .dataframe tbody tr th:only-of-type {\n",
       "        vertical-align: middle;\n",
       "    }\n",
       "\n",
       "    .dataframe tbody tr th {\n",
       "        vertical-align: top;\n",
       "    }\n",
       "\n",
       "    .dataframe thead th {\n",
       "        text-align: right;\n",
       "    }\n",
       "</style>\n",
       "<table border=\"1\" class=\"dataframe\">\n",
       "  <thead>\n",
       "    <tr style=\"text-align: right;\">\n",
       "      <th></th>\n",
       "      <th>bp1</th>\n",
       "      <th>bv1</th>\n",
       "      <th>ap1</th>\n",
       "      <th>av1</th>\n",
       "      <th>p</th>\n",
       "      <th>v</th>\n",
       "      <th>a</th>\n",
       "      <th>oi</th>\n",
       "      <th>type</th>\n",
       "    </tr>\n",
       "    <tr>\n",
       "      <th>time</th>\n",
       "      <th></th>\n",
       "      <th></th>\n",
       "      <th></th>\n",
       "      <th></th>\n",
       "      <th></th>\n",
       "      <th></th>\n",
       "      <th></th>\n",
       "      <th></th>\n",
       "      <th></th>\n",
       "    </tr>\n",
       "  </thead>\n",
       "  <tbody>\n",
       "    <tr>\n",
       "      <th>2023-09-04 09:00:01</th>\n",
       "      <td>1683.5</td>\n",
       "      <td>1.0</td>\n",
       "      <td>1685.0</td>\n",
       "      <td>47.0</td>\n",
       "      <td>1684.5</td>\n",
       "      <td>290</td>\n",
       "      <td>29274180</td>\n",
       "      <td>187889.0</td>\n",
       "      <td>5.0</td>\n",
       "    </tr>\n",
       "    <tr>\n",
       "      <th>2023-09-04 09:00:02</th>\n",
       "      <td>1684.5</td>\n",
       "      <td>3.0</td>\n",
       "      <td>1685.0</td>\n",
       "      <td>2.0</td>\n",
       "      <td>1683.5</td>\n",
       "      <td>194</td>\n",
       "      <td>19603650</td>\n",
       "      <td>187867.0</td>\n",
       "      <td>4.0</td>\n",
       "    </tr>\n",
       "    <tr>\n",
       "      <th>2023-09-04 09:00:03</th>\n",
       "      <td>1684.5</td>\n",
       "      <td>23.0</td>\n",
       "      <td>1685.5</td>\n",
       "      <td>3.0</td>\n",
       "      <td>1684.5</td>\n",
       "      <td>192</td>\n",
       "      <td>19418550</td>\n",
       "      <td>187790.0</td>\n",
       "      <td>6.0</td>\n",
       "    </tr>\n",
       "    <tr>\n",
       "      <th>2023-09-04 09:00:04</th>\n",
       "      <td>1685.5</td>\n",
       "      <td>1.0</td>\n",
       "      <td>1686.5</td>\n",
       "      <td>9.0</td>\n",
       "      <td>1685.5</td>\n",
       "      <td>73</td>\n",
       "      <td>7383210</td>\n",
       "      <td>187773.0</td>\n",
       "      <td>6.0</td>\n",
       "    </tr>\n",
       "    <tr>\n",
       "      <th>2023-09-04 09:00:05</th>\n",
       "      <td>1685.0</td>\n",
       "      <td>31.0</td>\n",
       "      <td>1685.5</td>\n",
       "      <td>8.0</td>\n",
       "      <td>1685.0</td>\n",
       "      <td>174</td>\n",
       "      <td>17598660</td>\n",
       "      <td>187771.0</td>\n",
       "      <td>6.0</td>\n",
       "    </tr>\n",
       "    <tr>\n",
       "      <th>...</th>\n",
       "      <td>...</td>\n",
       "      <td>...</td>\n",
       "      <td>...</td>\n",
       "      <td>...</td>\n",
       "      <td>...</td>\n",
       "      <td>...</td>\n",
       "      <td>...</td>\n",
       "      <td>...</td>\n",
       "      <td>...</td>\n",
       "    </tr>\n",
       "    <tr>\n",
       "      <th>2023-09-27 22:59:57</th>\n",
       "      <td>1862.0</td>\n",
       "      <td>12.0</td>\n",
       "      <td>1862.5</td>\n",
       "      <td>14.0</td>\n",
       "      <td>1862.0</td>\n",
       "      <td>29</td>\n",
       "      <td>3240030</td>\n",
       "      <td>179395.0</td>\n",
       "      <td>4.0</td>\n",
       "    </tr>\n",
       "    <tr>\n",
       "      <th>2023-09-27 22:59:58</th>\n",
       "      <td>1861.5</td>\n",
       "      <td>15.0</td>\n",
       "      <td>1862.0</td>\n",
       "      <td>8.0</td>\n",
       "      <td>1861.5</td>\n",
       "      <td>46</td>\n",
       "      <td>5139570</td>\n",
       "      <td>179394.0</td>\n",
       "      <td>6.0</td>\n",
       "    </tr>\n",
       "    <tr>\n",
       "      <th>2023-09-27 22:59:59</th>\n",
       "      <td>1861.0</td>\n",
       "      <td>25.0</td>\n",
       "      <td>1861.5</td>\n",
       "      <td>3.0</td>\n",
       "      <td>1861.0</td>\n",
       "      <td>31</td>\n",
       "      <td>3462570</td>\n",
       "      <td>179383.0</td>\n",
       "      <td>6.0</td>\n",
       "    </tr>\n",
       "    <tr>\n",
       "      <th>2023-09-27 23:00:00</th>\n",
       "      <td>1861.0</td>\n",
       "      <td>28.0</td>\n",
       "      <td>1861.5</td>\n",
       "      <td>3.0</td>\n",
       "      <td>1861.0</td>\n",
       "      <td>22</td>\n",
       "      <td>2456790</td>\n",
       "      <td>179381.0</td>\n",
       "      <td>6.0</td>\n",
       "    </tr>\n",
       "    <tr>\n",
       "      <th>2023-09-27 23:00:01</th>\n",
       "      <td>1861.0</td>\n",
       "      <td>27.0</td>\n",
       "      <td>1861.5</td>\n",
       "      <td>3.0</td>\n",
       "      <td>1861.5</td>\n",
       "      <td>4</td>\n",
       "      <td>446730</td>\n",
       "      <td>179380.0</td>\n",
       "      <td>5.0</td>\n",
       "    </tr>\n",
       "  </tbody>\n",
       "</table>\n",
       "<p>2037601 rows × 9 columns</p>\n",
       "</div>"
      ],
      "text/plain": [
       "                        bp1   bv1     ap1   av1       p    v         a  \\\n",
       "time                                                                     \n",
       "2023-09-04 09:00:01  1683.5   1.0  1685.0  47.0  1684.5  290  29274180   \n",
       "2023-09-04 09:00:02  1684.5   3.0  1685.0   2.0  1683.5  194  19603650   \n",
       "2023-09-04 09:00:03  1684.5  23.0  1685.5   3.0  1684.5  192  19418550   \n",
       "2023-09-04 09:00:04  1685.5   1.0  1686.5   9.0  1685.5   73   7383210   \n",
       "2023-09-04 09:00:05  1685.0  31.0  1685.5   8.0  1685.0  174  17598660   \n",
       "...                     ...   ...     ...   ...     ...  ...       ...   \n",
       "2023-09-27 22:59:57  1862.0  12.0  1862.5  14.0  1862.0   29   3240030   \n",
       "2023-09-27 22:59:58  1861.5  15.0  1862.0   8.0  1861.5   46   5139570   \n",
       "2023-09-27 22:59:59  1861.0  25.0  1861.5   3.0  1861.0   31   3462570   \n",
       "2023-09-27 23:00:00  1861.0  28.0  1861.5   3.0  1861.0   22   2456790   \n",
       "2023-09-27 23:00:01  1861.0  27.0  1861.5   3.0  1861.5    4    446730   \n",
       "\n",
       "                           oi  type  \n",
       "time                                 \n",
       "2023-09-04 09:00:01  187889.0   5.0  \n",
       "2023-09-04 09:00:02  187867.0   4.0  \n",
       "2023-09-04 09:00:03  187790.0   6.0  \n",
       "2023-09-04 09:00:04  187773.0   6.0  \n",
       "2023-09-04 09:00:05  187771.0   6.0  \n",
       "...                       ...   ...  \n",
       "2023-09-27 22:59:57  179395.0   4.0  \n",
       "2023-09-27 22:59:58  179394.0   6.0  \n",
       "2023-09-27 22:59:59  179383.0   6.0  \n",
       "2023-09-27 23:00:00  179381.0   6.0  \n",
       "2023-09-27 23:00:01  179380.0   5.0  \n",
       "\n",
       "[2037601 rows x 9 columns]"
      ]
     },
     "execution_count": 24,
     "metadata": {},
     "output_type": "execute_result"
    }
   ],
   "source": [
    "# 怎么用odb因子？降频前vs降频后\n",
    "resampled_z"
   ]
  },
  {
   "cell_type": "code",
   "execution_count": 25,
   "metadata": {},
   "outputs": [],
   "source": [
    "midprice = (resampled_z['bp1']+resampled_z['ap1'])/2"
   ]
  },
  {
   "cell_type": "code",
   "execution_count": 26,
   "metadata": {},
   "outputs": [],
   "source": [
    "# 在降频后的订单薄数据上加上一列————未来一个周期的收益率\n",
    "resampled_z['ret_1'] = midprice.shift(-1)/midprice - 1\n",
    "resampled_z['ret_3'] = midprice.shift(-3)/midprice - 1\n",
    "resampled_z['ret_5'] = midprice.shift(-5)/midprice - 1\n",
    "resampled_z['ret_10'] = midprice.shift(-10)/midprice - 1\n",
    "resampled_z['ret_15'] = midprice.shift(-15)/midprice - 1\n",
    "resampled_z['ret_30'] = midprice.shift(-15)/midprice - 1"
   ]
  },
  {
   "cell_type": "code",
   "execution_count": 27,
   "metadata": {},
   "outputs": [
    {
     "data": {
      "text/html": [
       "<div>\n",
       "<style scoped>\n",
       "    .dataframe tbody tr th:only-of-type {\n",
       "        vertical-align: middle;\n",
       "    }\n",
       "\n",
       "    .dataframe tbody tr th {\n",
       "        vertical-align: top;\n",
       "    }\n",
       "\n",
       "    .dataframe thead th {\n",
       "        text-align: right;\n",
       "    }\n",
       "</style>\n",
       "<table border=\"1\" class=\"dataframe\">\n",
       "  <thead>\n",
       "    <tr style=\"text-align: right;\">\n",
       "      <th></th>\n",
       "      <th>bp1</th>\n",
       "      <th>bv1</th>\n",
       "      <th>ap1</th>\n",
       "      <th>av1</th>\n",
       "      <th>p</th>\n",
       "      <th>v</th>\n",
       "      <th>a</th>\n",
       "      <th>oi</th>\n",
       "      <th>type</th>\n",
       "      <th>ret_1</th>\n",
       "      <th>ret_3</th>\n",
       "      <th>ret_5</th>\n",
       "      <th>ret_10</th>\n",
       "      <th>ret_15</th>\n",
       "      <th>ret_30</th>\n",
       "    </tr>\n",
       "    <tr>\n",
       "      <th>time</th>\n",
       "      <th></th>\n",
       "      <th></th>\n",
       "      <th></th>\n",
       "      <th></th>\n",
       "      <th></th>\n",
       "      <th></th>\n",
       "      <th></th>\n",
       "      <th></th>\n",
       "      <th></th>\n",
       "      <th></th>\n",
       "      <th></th>\n",
       "      <th></th>\n",
       "      <th></th>\n",
       "      <th></th>\n",
       "      <th></th>\n",
       "    </tr>\n",
       "  </thead>\n",
       "  <tbody>\n",
       "    <tr>\n",
       "      <th>2023-09-04 09:00:01</th>\n",
       "      <td>1683.5</td>\n",
       "      <td>1.0</td>\n",
       "      <td>1685.0</td>\n",
       "      <td>47.0</td>\n",
       "      <td>1684.5</td>\n",
       "      <td>290</td>\n",
       "      <td>29274180</td>\n",
       "      <td>187889.0</td>\n",
       "      <td>5.0</td>\n",
       "      <td>0.000297</td>\n",
       "      <td>0.001039</td>\n",
       "      <td>0.000891</td>\n",
       "      <td>-0.001484</td>\n",
       "      <td>-0.000297</td>\n",
       "      <td>-0.000297</td>\n",
       "    </tr>\n",
       "    <tr>\n",
       "      <th>2023-09-04 09:00:02</th>\n",
       "      <td>1684.5</td>\n",
       "      <td>3.0</td>\n",
       "      <td>1685.0</td>\n",
       "      <td>2.0</td>\n",
       "      <td>1683.5</td>\n",
       "      <td>194</td>\n",
       "      <td>19603650</td>\n",
       "      <td>187867.0</td>\n",
       "      <td>4.0</td>\n",
       "      <td>0.000148</td>\n",
       "      <td>0.000297</td>\n",
       "      <td>0.000890</td>\n",
       "      <td>-0.001929</td>\n",
       "      <td>-0.000890</td>\n",
       "      <td>-0.000890</td>\n",
       "    </tr>\n",
       "    <tr>\n",
       "      <th>2023-09-04 09:00:03</th>\n",
       "      <td>1684.5</td>\n",
       "      <td>23.0</td>\n",
       "      <td>1685.5</td>\n",
       "      <td>3.0</td>\n",
       "      <td>1684.5</td>\n",
       "      <td>192</td>\n",
       "      <td>19418550</td>\n",
       "      <td>187790.0</td>\n",
       "      <td>6.0</td>\n",
       "      <td>0.000593</td>\n",
       "      <td>0.000445</td>\n",
       "      <td>-0.000445</td>\n",
       "      <td>-0.001632</td>\n",
       "      <td>-0.001632</td>\n",
       "      <td>-0.001632</td>\n",
       "    </tr>\n",
       "    <tr>\n",
       "      <th>2023-09-04 09:00:04</th>\n",
       "      <td>1685.5</td>\n",
       "      <td>1.0</td>\n",
       "      <td>1686.5</td>\n",
       "      <td>9.0</td>\n",
       "      <td>1685.5</td>\n",
       "      <td>73</td>\n",
       "      <td>7383210</td>\n",
       "      <td>187773.0</td>\n",
       "      <td>6.0</td>\n",
       "      <td>-0.000445</td>\n",
       "      <td>0.000148</td>\n",
       "      <td>-0.001335</td>\n",
       "      <td>-0.001631</td>\n",
       "      <td>-0.002224</td>\n",
       "      <td>-0.002224</td>\n",
       "    </tr>\n",
       "    <tr>\n",
       "      <th>2023-09-04 09:00:05</th>\n",
       "      <td>1685.0</td>\n",
       "      <td>31.0</td>\n",
       "      <td>1685.5</td>\n",
       "      <td>8.0</td>\n",
       "      <td>1685.0</td>\n",
       "      <td>174</td>\n",
       "      <td>17598660</td>\n",
       "      <td>187771.0</td>\n",
       "      <td>6.0</td>\n",
       "      <td>0.000297</td>\n",
       "      <td>-0.000593</td>\n",
       "      <td>-0.001038</td>\n",
       "      <td>-0.000890</td>\n",
       "      <td>-0.001335</td>\n",
       "      <td>-0.001335</td>\n",
       "    </tr>\n",
       "    <tr>\n",
       "      <th>...</th>\n",
       "      <td>...</td>\n",
       "      <td>...</td>\n",
       "      <td>...</td>\n",
       "      <td>...</td>\n",
       "      <td>...</td>\n",
       "      <td>...</td>\n",
       "      <td>...</td>\n",
       "      <td>...</td>\n",
       "      <td>...</td>\n",
       "      <td>...</td>\n",
       "      <td>...</td>\n",
       "      <td>...</td>\n",
       "      <td>...</td>\n",
       "      <td>...</td>\n",
       "      <td>...</td>\n",
       "    </tr>\n",
       "    <tr>\n",
       "      <th>2023-09-27 22:59:57</th>\n",
       "      <td>1862.0</td>\n",
       "      <td>12.0</td>\n",
       "      <td>1862.5</td>\n",
       "      <td>14.0</td>\n",
       "      <td>1862.0</td>\n",
       "      <td>29</td>\n",
       "      <td>3240030</td>\n",
       "      <td>179395.0</td>\n",
       "      <td>4.0</td>\n",
       "      <td>-0.000268</td>\n",
       "      <td>-0.000537</td>\n",
       "      <td>NaN</td>\n",
       "      <td>NaN</td>\n",
       "      <td>NaN</td>\n",
       "      <td>NaN</td>\n",
       "    </tr>\n",
       "    <tr>\n",
       "      <th>2023-09-27 22:59:58</th>\n",
       "      <td>1861.5</td>\n",
       "      <td>15.0</td>\n",
       "      <td>1862.0</td>\n",
       "      <td>8.0</td>\n",
       "      <td>1861.5</td>\n",
       "      <td>46</td>\n",
       "      <td>5139570</td>\n",
       "      <td>179394.0</td>\n",
       "      <td>6.0</td>\n",
       "      <td>-0.000269</td>\n",
       "      <td>-0.000269</td>\n",
       "      <td>NaN</td>\n",
       "      <td>NaN</td>\n",
       "      <td>NaN</td>\n",
       "      <td>NaN</td>\n",
       "    </tr>\n",
       "    <tr>\n",
       "      <th>2023-09-27 22:59:59</th>\n",
       "      <td>1861.0</td>\n",
       "      <td>25.0</td>\n",
       "      <td>1861.5</td>\n",
       "      <td>3.0</td>\n",
       "      <td>1861.0</td>\n",
       "      <td>31</td>\n",
       "      <td>3462570</td>\n",
       "      <td>179383.0</td>\n",
       "      <td>6.0</td>\n",
       "      <td>0.000000</td>\n",
       "      <td>NaN</td>\n",
       "      <td>NaN</td>\n",
       "      <td>NaN</td>\n",
       "      <td>NaN</td>\n",
       "      <td>NaN</td>\n",
       "    </tr>\n",
       "    <tr>\n",
       "      <th>2023-09-27 23:00:00</th>\n",
       "      <td>1861.0</td>\n",
       "      <td>28.0</td>\n",
       "      <td>1861.5</td>\n",
       "      <td>3.0</td>\n",
       "      <td>1861.0</td>\n",
       "      <td>22</td>\n",
       "      <td>2456790</td>\n",
       "      <td>179381.0</td>\n",
       "      <td>6.0</td>\n",
       "      <td>0.000000</td>\n",
       "      <td>NaN</td>\n",
       "      <td>NaN</td>\n",
       "      <td>NaN</td>\n",
       "      <td>NaN</td>\n",
       "      <td>NaN</td>\n",
       "    </tr>\n",
       "    <tr>\n",
       "      <th>2023-09-27 23:00:01</th>\n",
       "      <td>1861.0</td>\n",
       "      <td>27.0</td>\n",
       "      <td>1861.5</td>\n",
       "      <td>3.0</td>\n",
       "      <td>1861.5</td>\n",
       "      <td>4</td>\n",
       "      <td>446730</td>\n",
       "      <td>179380.0</td>\n",
       "      <td>5.0</td>\n",
       "      <td>NaN</td>\n",
       "      <td>NaN</td>\n",
       "      <td>NaN</td>\n",
       "      <td>NaN</td>\n",
       "      <td>NaN</td>\n",
       "      <td>NaN</td>\n",
       "    </tr>\n",
       "  </tbody>\n",
       "</table>\n",
       "<p>2037601 rows × 15 columns</p>\n",
       "</div>"
      ],
      "text/plain": [
       "                        bp1   bv1     ap1   av1       p    v         a  \\\n",
       "time                                                                     \n",
       "2023-09-04 09:00:01  1683.5   1.0  1685.0  47.0  1684.5  290  29274180   \n",
       "2023-09-04 09:00:02  1684.5   3.0  1685.0   2.0  1683.5  194  19603650   \n",
       "2023-09-04 09:00:03  1684.5  23.0  1685.5   3.0  1684.5  192  19418550   \n",
       "2023-09-04 09:00:04  1685.5   1.0  1686.5   9.0  1685.5   73   7383210   \n",
       "2023-09-04 09:00:05  1685.0  31.0  1685.5   8.0  1685.0  174  17598660   \n",
       "...                     ...   ...     ...   ...     ...  ...       ...   \n",
       "2023-09-27 22:59:57  1862.0  12.0  1862.5  14.0  1862.0   29   3240030   \n",
       "2023-09-27 22:59:58  1861.5  15.0  1862.0   8.0  1861.5   46   5139570   \n",
       "2023-09-27 22:59:59  1861.0  25.0  1861.5   3.0  1861.0   31   3462570   \n",
       "2023-09-27 23:00:00  1861.0  28.0  1861.5   3.0  1861.0   22   2456790   \n",
       "2023-09-27 23:00:01  1861.0  27.0  1861.5   3.0  1861.5    4    446730   \n",
       "\n",
       "                           oi  type     ret_1     ret_3     ret_5    ret_10  \\\n",
       "time                                                                          \n",
       "2023-09-04 09:00:01  187889.0   5.0  0.000297  0.001039  0.000891 -0.001484   \n",
       "2023-09-04 09:00:02  187867.0   4.0  0.000148  0.000297  0.000890 -0.001929   \n",
       "2023-09-04 09:00:03  187790.0   6.0  0.000593  0.000445 -0.000445 -0.001632   \n",
       "2023-09-04 09:00:04  187773.0   6.0 -0.000445  0.000148 -0.001335 -0.001631   \n",
       "2023-09-04 09:00:05  187771.0   6.0  0.000297 -0.000593 -0.001038 -0.000890   \n",
       "...                       ...   ...       ...       ...       ...       ...   \n",
       "2023-09-27 22:59:57  179395.0   4.0 -0.000268 -0.000537       NaN       NaN   \n",
       "2023-09-27 22:59:58  179394.0   6.0 -0.000269 -0.000269       NaN       NaN   \n",
       "2023-09-27 22:59:59  179383.0   6.0  0.000000       NaN       NaN       NaN   \n",
       "2023-09-27 23:00:00  179381.0   6.0  0.000000       NaN       NaN       NaN   \n",
       "2023-09-27 23:00:01  179380.0   5.0       NaN       NaN       NaN       NaN   \n",
       "\n",
       "                       ret_15    ret_30  \n",
       "time                                     \n",
       "2023-09-04 09:00:01 -0.000297 -0.000297  \n",
       "2023-09-04 09:00:02 -0.000890 -0.000890  \n",
       "2023-09-04 09:00:03 -0.001632 -0.001632  \n",
       "2023-09-04 09:00:04 -0.002224 -0.002224  \n",
       "2023-09-04 09:00:05 -0.001335 -0.001335  \n",
       "...                       ...       ...  \n",
       "2023-09-27 22:59:57       NaN       NaN  \n",
       "2023-09-27 22:59:58       NaN       NaN  \n",
       "2023-09-27 22:59:59       NaN       NaN  \n",
       "2023-09-27 23:00:00       NaN       NaN  \n",
       "2023-09-27 23:00:01       NaN       NaN  \n",
       "\n",
       "[2037601 rows x 15 columns]"
      ]
     },
     "execution_count": 27,
     "metadata": {},
     "output_type": "execute_result"
    }
   ],
   "source": [
    "resampled_z\n",
    "# 更严格的做法，收益率也是要做标准化的，ret_3/根号3"
   ]
  },
  {
   "cell_type": "code",
   "execution_count": 28,
   "metadata": {},
   "outputs": [
    {
     "data": {
      "text/plain": [
       "time\n",
       "2023-09-04 09:00:01    17.0\n",
       "2023-09-04 09:00:02     4.0\n",
       "2023-09-04 09:00:03    20.0\n",
       "2023-09-04 09:00:04    10.0\n",
       "2023-09-04 09:00:05     0.0\n",
       "                       ... \n",
       "2023-09-27 22:59:57   -20.0\n",
       "2023-09-27 22:59:58   -24.0\n",
       "2023-09-27 22:59:59   -19.0\n",
       "2023-09-27 23:00:00     3.0\n",
       "2023-09-27 23:00:01    -1.0\n",
       "Freq: S, Length: 2037601, dtype: float64"
      ]
     },
     "execution_count": 28,
     "metadata": {},
     "output_type": "execute_result"
    }
   ],
   "source": [
    "# 看看降频后的因子和收益率的ic decay?\n",
    "# 对未来收益率的预测周期越长越好，因子的稳定性越好\n",
    "resampled_clipped\n"
   ]
  },
  {
   "cell_type": "code",
   "execution_count": 29,
   "metadata": {},
   "outputs": [
    {
     "name": "stdout",
     "output_type": "stream",
     "text": [
      "[0.12310880332485911, 0.12512420952964787, 0.12136171977875258, 0.0986608337043087, 0.08226497082554365, 0.08226497082554365]\n"
     ]
    }
   ],
   "source": [
    "ic_decay_list = []\n",
    "for i in resampled_z.columns[9:]:\n",
    "    ic_decay_list.append(resampled_clipped.corr(resampled_z[i]))\n",
    "print(ic_decay_list)"
   ]
  },
  {
   "cell_type": "code",
   "execution_count": 30,
   "metadata": {},
   "outputs": [
    {
     "data": {
      "text/plain": [
       "[0.12310880332485911,\n",
       " 0.12512420952964787,\n",
       " 0.12136171977875258,\n",
       " 0.0986608337043087,\n",
       " 0.08226497082554365,\n",
       " 0.08226497082554365]"
      ]
     },
     "execution_count": 30,
     "metadata": {},
     "output_type": "execute_result"
    }
   ],
   "source": [
    "ic_decay_list"
   ]
  },
  {
   "cell_type": "code",
   "execution_count": 31,
   "metadata": {},
   "outputs": [
    {
     "data": {
      "text/plain": [
       "<Axes: >"
      ]
     },
     "execution_count": 31,
     "metadata": {},
     "output_type": "execute_result"
    },
    {
     "data": {
      "image/png": "[encoded data removed]",
      "text/plain": [
       "<Figure size 432x288 with 1 Axes>"
      ]
     },
     "metadata": {
      "needs_background": "light"
     },
     "output_type": "display_data"
    }
   ],
   "source": [
    "pd.Series(ic_decay_list).plot()\n",
    "# ic decay怎么看？"
   ]
  },
  {
   "cell_type": "code",
   "execution_count": 32,
   "metadata": {},
   "outputs": [],
   "source": [
    "# 查看滚动窗口的ic变化情况\n",
    "import talib as ta\n",
    "rolling_ic = ta.CORREL(resampled_z['ret_5'].fillna(0),resampled_clipped,50000)"
   ]
  },
  {
   "cell_type": "code",
   "execution_count": 33,
   "metadata": {},
   "outputs": [
    {
     "data": {
      "text/plain": [
       "<Axes: xlabel='time'>"
      ]
     },
     "execution_count": 33,
     "metadata": {},
     "output_type": "execute_result"
    },
    {
     "data": {
      "image/png": "[encoded data removed]",
      "text/plain": [
       "<Figure size 432x288 with 1 Axes>"
      ]
     },
     "metadata": {
      "needs_background": "light"
     },
     "output_type": "display_data"
    }
   ],
   "source": [
    "rolling_ic.plot()"
   ]
  },
  {
   "cell_type": "code",
   "execution_count": 34,
   "metadata": {},
   "outputs": [
    {
     "data": {
      "text/plain": [
       "<Axes: >"
      ]
     },
     "execution_count": 34,
     "metadata": {},
     "output_type": "execute_result"
    },
    {
     "data": {
      "image/png": "[encoded data removed]",
      "text/plain": [
       "<Figure size 432x288 with 1 Axes>"
      ]
     },
     "metadata": {
      "needs_background": "light"
     },
     "output_type": "display_data"
    }
   ],
   "source": [
    "# 由ic decay图可知，因子和5个周期的收益率相关性最强\n",
    "# 接下来我们看看把因子值视作仓位，在5个周期上的盈利能\n",
    "resampled_clipped.hist()"
   ]
  },
  {
   "cell_type": "code",
   "execution_count": 35,
   "metadata": {},
   "outputs": [],
   "source": [
    "position = resampled_clipped/100"
   ]
  },
  {
   "cell_type": "code",
   "execution_count": 36,
   "metadata": {},
   "outputs": [
    {
     "data": {
      "text/plain": [
       "count    2.037601e+06\n",
       "mean    -1.157685e-04\n",
       "std      4.989592e-02\n",
       "min     -5.700000e-01\n",
       "25%      0.000000e+00\n",
       "50%      0.000000e+00\n",
       "75%      0.000000e+00\n",
       "max      5.400000e-01\n",
       "dtype: float64"
      ]
     },
     "execution_count": 36,
     "metadata": {},
     "output_type": "execute_result"
    }
   ],
   "source": [
    "position.describe()"
   ]
  },
  {
   "cell_type": "code",
   "execution_count": 37,
   "metadata": {},
   "outputs": [
    {
     "data": {
      "text/plain": [
       "<Axes: >"
      ]
     },
     "execution_count": 37,
     "metadata": {},
     "output_type": "execute_result"
    },
    {
     "data": {
      "image/png": "[encoded data removed]",
      "text/plain": [
       "<Figure size 432x288 with 1 Axes>"
      ]
     },
     "metadata": {
      "needs_background": "light"
     },
     "output_type": "display_data"
    }
   ],
   "source": [
    "position.hist()"
   ]
  },
  {
   "cell_type": "code",
   "execution_count": 38,
   "metadata": {},
   "outputs": [],
   "source": [
    "net_value = 1+(position*resampled_z['ret_5'].fillna(0)).cumsum()"
   ]
  },
  {
   "cell_type": "code",
   "execution_count": 39,
   "metadata": {},
   "outputs": [
    {
     "data": {
      "text/plain": [
       "<Axes: xlabel='time'>"
      ]
     },
     "execution_count": 39,
     "metadata": {},
     "output_type": "execute_result"
    },
    {
     "data": {
      "image/png": "[encoded data removed]",
      "text/plain": [
       "<Figure size 432x288 with 1 Axes>"
      ]
     },
     "metadata": {
      "needs_background": "light"
     },
     "output_type": "display_data"
    }
   ],
   "source": [
    "net_value.plot()\n",
    "# 说明这个因子的盈亏比非常好"
   ]
  },
  {
   "cell_type": "code",
   "execution_count": 40,
   "metadata": {},
   "outputs": [],
   "source": [
    "spread = np.mean(z.ap1-z.bp1)"
   ]
  },
  {
   "cell_type": "code",
   "execution_count": 41,
   "metadata": {},
   "outputs": [
    {
     "data": {
      "text/plain": [
       "0.5835777262613002"
      ]
     },
     "execution_count": 41,
     "metadata": {},
     "output_type": "execute_result"
    }
   ],
   "source": [
    "spread"
   ]
  },
  {
   "cell_type": "code",
   "execution_count": 42,
   "metadata": {},
   "outputs": [],
   "source": [
    "# 那么我们扣掉手续费呢\n",
    "net_value_after_fee = 1+(position*resampled_z['ret_5'].fillna(0)*0.9996).cumsum()\n"
   ]
  },
  {
   "cell_type": "code",
   "execution_count": 43,
   "metadata": {},
   "outputs": [
    {
     "data": {
      "text/plain": [
       "time\n",
       "2023-09-04 09:00:01    1.000151\n",
       "2023-09-04 09:00:02    1.000187\n",
       "2023-09-04 09:00:03    1.000098\n",
       "2023-09-04 09:00:04    0.999965\n",
       "2023-09-04 09:00:05    0.999965\n",
       "                         ...   \n",
       "2023-09-27 22:59:57    2.861620\n",
       "2023-09-27 22:59:58    2.861620\n",
       "2023-09-27 22:59:59    2.861620\n",
       "2023-09-27 23:00:00    2.861620\n",
       "2023-09-27 23:00:01    2.861620\n",
       "Freq: S, Length: 2037601, dtype: float64"
      ]
     },
     "execution_count": 43,
     "metadata": {},
     "output_type": "execute_result"
    }
   ],
   "source": [
    "net_value_after_fee"
   ]
  },
  {
   "cell_type": "code",
   "execution_count": 44,
   "metadata": {},
   "outputs": [
    {
     "data": {
      "text/plain": [
       "<Axes: xlabel='time'>"
      ]
     },
     "execution_count": 44,
     "metadata": {},
     "output_type": "execute_result"
    },
    {
     "data": {
      "image/png": "[encoded data removed]",
      "text/plain": [
       "<Figure size 432x288 with 1 Axes>"
      ]
     },
     "metadata": {
      "needs_background": "light"
     },
     "output_type": "display_data"
    }
   ],
   "source": [
    "net_value_after_fee.plot()\n"
   ]
  },
  {
   "cell_type": "code",
   "execution_count": 45,
   "metadata": {},
   "outputs": [],
   "source": [
    "# 如果扣除滑点成本呢？\n",
    "net_value_after_fee_and_spread = 1+(position*resampled_z['ret_5'].fillna(0)*0.9996-spread).cumsum()\n",
    "\n",
    "\n"
   ]
  },
  {
   "cell_type": "code",
   "execution_count": null,
   "metadata": {},
   "outputs": [],
   "source": []
  },
  {
   "cell_type": "code",
   "execution_count": 46,
   "metadata": {},
   "outputs": [
    {
     "data": {
      "text/plain": [
       "time\n",
       "2023-09-04 09:00:01    4.165736e-01\n",
       "2023-09-04 09:00:02   -1.669685e-01\n",
       "2023-09-04 09:00:03   -7.506352e-01\n",
       "2023-09-04 09:00:04   -1.334346e+00\n",
       "2023-09-04 09:00:05   -1.917924e+00\n",
       "                           ...     \n",
       "2023-09-27 22:59:57   -1.189093e+06\n",
       "2023-09-27 22:59:58   -1.189094e+06\n",
       "2023-09-27 22:59:59   -1.189095e+06\n",
       "2023-09-27 23:00:00   -1.189095e+06\n",
       "2023-09-27 23:00:01   -1.189096e+06\n",
       "Freq: S, Length: 2037601, dtype: float64"
      ]
     },
     "execution_count": 46,
     "metadata": {},
     "output_type": "execute_result"
    }
   ],
   "source": [
    "net_value_after_fee_and_spread"
   ]
  },
  {
   "cell_type": "code",
   "execution_count": 47,
   "metadata": {},
   "outputs": [
    {
     "data": {
      "text/plain": [
       "<Axes: xlabel='time'>"
      ]
     },
     "execution_count": 47,
     "metadata": {},
     "output_type": "execute_result"
    },
    {
     "data": {
      "image/png": "[encoded data removed]",
      "text/plain": [
       "<Figure size 432x288 with 1 Axes>"
      ]
     },
     "metadata": {
      "needs_background": "light"
     },
     "output_type": "display_data"
    }
   ],
   "source": [
    "# 滑点比手续费更吃利润\n",
    "net_value_after_fee_and_spread.plot()"
   ]
  },
  {
   "cell_type": "code",
   "execution_count": 48,
   "metadata": {},
   "outputs": [
    {
     "data": {
      "text/plain": [
       "<Axes: >"
      ]
     },
     "execution_count": 48,
     "metadata": {},
     "output_type": "execute_result"
    },
    {
     "data": {
      "image/png": "[encoded data removed]",
      "text/plain": [
       "<Figure size 432x288 with 1 Axes>"
      ]
     },
     "metadata": {
      "needs_background": "light"
     },
     "output_type": "display_data"
    }
   ],
   "source": [
    "# 优化方向一：只在因子大于一定阈值时才开仓(开仓)\n",
    "position.hist()"
   ]
  },
  {
   "cell_type": "code",
   "execution_count": 49,
   "metadata": {},
   "outputs": [],
   "source": [
    "binning_position = ((position>0.5)&(position<-0.5))*position"
   ]
  },
  {
   "cell_type": "code",
   "execution_count": 50,
   "metadata": {},
   "outputs": [
    {
     "name": "stdout",
     "output_type": "stream",
     "text": [
      "time\n",
      "2023-09-04 09:00:01    0.17\n",
      "2023-09-04 09:00:02    0.04\n",
      "2023-09-04 09:00:03    0.20\n",
      "2023-09-04 09:00:04    0.10\n",
      "2023-09-04 09:00:05    0.00\n",
      "                       ... \n",
      "2023-09-27 22:59:57   -0.20\n",
      "2023-09-27 22:59:58   -0.24\n",
      "2023-09-27 22:59:59   -0.19\n",
      "2023-09-27 23:00:00    0.03\n",
      "2023-09-27 23:00:01   -0.01\n",
      "Freq: S, Length: 2037601, dtype: float64\n"
     ]
    }
   ],
   "source": [
    "print(position)"
   ]
  },
  {
   "cell_type": "code",
   "execution_count": 51,
   "metadata": {},
   "outputs": [
    {
     "data": {
      "text/plain": [
       "<Axes: >"
      ]
     },
     "execution_count": 51,
     "metadata": {},
     "output_type": "execute_result"
    },
    {
     "data": {
      "image/png": "[encoded data removed]",
      "text/plain": [
       "<Figure size 432x288 with 1 Axes>"
      ]
     },
     "metadata": {
      "needs_background": "light"
     },
     "output_type": "display_data"
    }
   ],
   "source": [
    "binning_position.hist()"
   ]
  },
  {
   "cell_type": "code",
   "execution_count": 52,
   "metadata": {},
   "outputs": [],
   "source": [
    "# 分箱后扣除滑点成本呢？\n",
    "net_value_after_binning = 1+((binning_position!=0)*binning_position*resampled_z['ret_5'].fillna(0)*0.9996-spread).cumsum()"
   ]
  },
  {
   "cell_type": "code",
   "execution_count": 53,
   "metadata": {},
   "outputs": [
    {
     "data": {
      "text/plain": [
       "time\n",
       "2023-09-04 09:00:01    4.164223e-01\n",
       "2023-09-04 09:00:02   -1.671555e-01\n",
       "2023-09-04 09:00:03   -7.507332e-01\n",
       "2023-09-04 09:00:04   -1.334311e+00\n",
       "2023-09-04 09:00:05   -1.917889e+00\n",
       "                           ...     \n",
       "2023-09-27 22:59:57   -1.189095e+06\n",
       "2023-09-27 22:59:58   -1.189096e+06\n",
       "2023-09-27 22:59:59   -1.189096e+06\n",
       "2023-09-27 23:00:00   -1.189097e+06\n",
       "2023-09-27 23:00:01   -1.189098e+06\n",
       "Freq: S, Length: 2037601, dtype: float64"
      ]
     },
     "execution_count": 53,
     "metadata": {},
     "output_type": "execute_result"
    }
   ],
   "source": [
    "net_value_after_binning"
   ]
  },
  {
   "cell_type": "code",
   "execution_count": 54,
   "metadata": {},
   "outputs": [
    {
     "data": {
      "text/plain": [
       "<Axes: xlabel='time'>"
      ]
     },
     "execution_count": 54,
     "metadata": {},
     "output_type": "execute_result"
    },
    {
     "data": {
      "image/png": "[encoded data removed]",
      "text/plain": [
       "<Figure size 432x288 with 1 Axes>"
      ]
     },
     "metadata": {
      "needs_background": "light"
     },
     "output_type": "display_data"
    }
   ],
   "source": [
    "net_value_after_binning.plot()"
   ]
  },
  {
   "cell_type": "code",
   "execution_count": 55,
   "metadata": {},
   "outputs": [],
   "source": [
    "# 优化方向二：打单变挂单\n",
    "list_price = (position>0)*resampled_z.bp1 + (position<0)*resampled_z.ap1 "
   ]
  },
  {
   "cell_type": "code",
   "execution_count": 56,
   "metadata": {},
   "outputs": [],
   "source": [
    "# 假设挂单可以成交，那么\n",
    "ret_5 = midprice.shift(-5)/list_price-1"
   ]
  },
  {
   "cell_type": "code",
   "execution_count": 57,
   "metadata": {},
   "outputs": [],
   "source": [
    "net_value_after_fee_and_spread_buylist = 1+(ret_5.fillna(0)*position*0.9996-spread).cumsum()"
   ]
  },
  {
   "cell_type": "code",
   "execution_count": 58,
   "metadata": {},
   "outputs": [
    {
     "data": {
      "text/plain": [
       "time\n",
       "2023-09-04 09:00:01    4.166494e-01\n",
       "2023-09-04 09:00:02   -1.668868e-01\n",
       "2023-09-04 09:00:03   -7.504942e-01\n",
       "2023-09-04 09:00:04   -1.334176e+00\n",
       "2023-09-04 09:00:05             NaN\n",
       "                           ...     \n",
       "2023-09-27 22:59:57   -1.177923e+06\n",
       "2023-09-27 22:59:58   -1.177923e+06\n",
       "2023-09-27 22:59:59   -1.177924e+06\n",
       "2023-09-27 23:00:00   -1.177924e+06\n",
       "2023-09-27 23:00:01   -1.177925e+06\n",
       "Freq: S, Length: 2037601, dtype: float64"
      ]
     },
     "execution_count": 58,
     "metadata": {},
     "output_type": "execute_result"
    }
   ],
   "source": [
    "net_value_after_fee_and_spread_buylist"
   ]
  },
  {
   "cell_type": "code",
   "execution_count": 59,
   "metadata": {},
   "outputs": [
    {
     "data": {
      "text/plain": [
       "<Axes: xlabel='time'>"
      ]
     },
     "execution_count": 59,
     "metadata": {},
     "output_type": "execute_result"
    },
    {
     "data": {
      "image/png": "[encoded data removed]",
      "text/plain": [
       "<Figure size 432x288 with 1 Axes>"
      ]
     },
     "metadata": {
      "needs_background": "light"
     },
     "output_type": "display_data"
    }
   ],
   "source": [
    "# 挂单是否能成交？\n",
    "# 跟随信号调整挂撤单\n",
    "net_value_after_fee_and_spread_buylist.plot()"
   ]
  }
 ],
 "metadata": {
  "kernelspec": {
   "display_name": "quant",
   "language": "python",
   "name": "python3"
  },
  "language_info": {
   "codemirror_mode": {
    "name": "ipython",
    "version": 3
   },
   "file_extension": ".py",
   "mimetype": "text/x-python",
   "name": "python",
   "nbconvert_exporter": "python",
   "pygments_lexer": "ipython3",
   "version": "3.8.12"
  }
 },
 "nbformat": 4,
 "nbformat_minor": 2
}
