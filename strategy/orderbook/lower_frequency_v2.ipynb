{
 "cells": [
  {
   "cell_type": "code",
   "execution_count": 1,
   "metadata": {},
   "outputs": [],
   "source": [
    "# 对高频因子进行降频处理"
   ]
  },
  {
   "cell_type": "code",
   "execution_count": 1,
   "metadata": {},
   "outputs": [],
   "source": [
    "import pandas as pd\n",
    "import numpy as np"
   ]
  },
  {
   "cell_type": "code",
   "execution_count": null,
   "metadata": {},
   "outputs": [],
   "source": [
    "df = pd.read_csv('/Volumes/Ext-Disk/data/futures/um/tardis/orderbook/ETHUSDT/binance_book_snapshot_5_2019-12-01_ETHUSDT.csv.gz')\n",
    "df['time'] = pd.to_datetime(df['timestamp'], unit='us')\n",
    "df.set_index('time', inplace=True)\n",
    "selected_columns = ['symbol','asks[0].price', 'asks[0].amount', 'bids[0].price', 'bids[0].amount', 'asks[1].price', 'asks[1].amount', 'bids[1].price', 'bids[1].amount', 'asks[2].price', 'asks[2].amount', 'bids[2].price', 'bids[2].amount', 'asks[3].price', 'asks[3].amount', 'bids[3].price', 'bids[3].amount', 'asks[4].price', 'asks[4].amount', 'bids[4].price', 'bids[4].amount']\n",
    "\n",
    "z = df.loc[:, selected_columns]\n",
    "\n",
    "z.columns = ['symbol','ap0', 'av0', 'bp0', 'bv0', 'ap1', 'av1', 'bp1', 'bv1', 'ap2', 'av2', 'bp2', 'bv2', 'ap3', 'av3', 'bp3', 'bv3', 'ap4', 'av4', 'bp4', 'bv4']\n",
    "['time','ap0', 'av0', 'bp0', 'bv0', 'ap1', 'av1', 'bp1', 'bv1', 'ap2', 'av2', 'bp2', 'bv2', 'ap3', 'av3', 'bp3', 'bv3', 'ap4', 'av4', 'bp4', 'bv4']\n"
   ]
  },
  {
   "cell_type": "markdown",
   "metadata": {},
   "source": []
  },
  {
   "cell_type": "code",
   "execution_count": 3,
   "metadata": {},
   "outputs": [
    {
     "data": {
      "text/html": [
       "<div>\n",
       "<style scoped>\n",
       "    .dataframe tbody tr th:only-of-type {\n",
       "        vertical-align: middle;\n",
       "    }\n",
       "\n",
       "    .dataframe tbody tr th {\n",
       "        vertical-align: top;\n",
       "    }\n",
       "\n",
       "    .dataframe thead th {\n",
       "        text-align: right;\n",
       "    }\n",
       "</style>\n",
       "<table border=\"1\" class=\"dataframe\">\n",
       "  <thead>\n",
       "    <tr style=\"text-align: right;\">\n",
       "      <th></th>\n",
       "      <th>symbol</th>\n",
       "      <th>ap0</th>\n",
       "      <th>av0</th>\n",
       "      <th>bp0</th>\n",
       "      <th>bv0</th>\n",
       "      <th>ap1</th>\n",
       "      <th>av1</th>\n",
       "      <th>bp1</th>\n",
       "      <th>bv1</th>\n",
       "      <th>ap2</th>\n",
       "      <th>...</th>\n",
       "      <th>bp2</th>\n",
       "      <th>bv2</th>\n",
       "      <th>ap3</th>\n",
       "      <th>av3</th>\n",
       "      <th>bp3</th>\n",
       "      <th>bv3</th>\n",
       "      <th>ap4</th>\n",
       "      <th>av4</th>\n",
       "      <th>bp4</th>\n",
       "      <th>bv4</th>\n",
       "    </tr>\n",
       "    <tr>\n",
       "      <th>time</th>\n",
       "      <th></th>\n",
       "      <th></th>\n",
       "      <th></th>\n",
       "      <th></th>\n",
       "      <th></th>\n",
       "      <th></th>\n",
       "      <th></th>\n",
       "      <th></th>\n",
       "      <th></th>\n",
       "      <th></th>\n",
       "      <th></th>\n",
       "      <th></th>\n",
       "      <th></th>\n",
       "      <th></th>\n",
       "      <th></th>\n",
       "      <th></th>\n",
       "      <th></th>\n",
       "      <th></th>\n",
       "      <th></th>\n",
       "      <th></th>\n",
       "      <th></th>\n",
       "    </tr>\n",
       "  </thead>\n",
       "  <tbody>\n",
       "    <tr>\n",
       "      <th>2019-12-01 00:00:07.437331</th>\n",
       "      <td>ETHUSDT</td>\n",
       "      <td>151.39</td>\n",
       "      <td>242.04108</td>\n",
       "      <td>151.35</td>\n",
       "      <td>0.30000</td>\n",
       "      <td>151.40</td>\n",
       "      <td>19.82020</td>\n",
       "      <td>151.34</td>\n",
       "      <td>12.02402</td>\n",
       "      <td>151.41</td>\n",
       "      <td>...</td>\n",
       "      <td>151.33</td>\n",
       "      <td>7.00000</td>\n",
       "      <td>151.42</td>\n",
       "      <td>30.20078</td>\n",
       "      <td>151.32</td>\n",
       "      <td>30.10000</td>\n",
       "      <td>151.43</td>\n",
       "      <td>9.96273</td>\n",
       "      <td>151.30</td>\n",
       "      <td>7.59449</td>\n",
       "    </tr>\n",
       "    <tr>\n",
       "      <th>2019-12-01 00:00:07.598000</th>\n",
       "      <td>ETHUSDT</td>\n",
       "      <td>151.38</td>\n",
       "      <td>13.00000</td>\n",
       "      <td>151.34</td>\n",
       "      <td>11.72402</td>\n",
       "      <td>151.39</td>\n",
       "      <td>98.16599</td>\n",
       "      <td>151.33</td>\n",
       "      <td>7.00000</td>\n",
       "      <td>151.40</td>\n",
       "      <td>...</td>\n",
       "      <td>151.32</td>\n",
       "      <td>30.10000</td>\n",
       "      <td>151.41</td>\n",
       "      <td>2.07794</td>\n",
       "      <td>151.30</td>\n",
       "      <td>7.59449</td>\n",
       "      <td>151.42</td>\n",
       "      <td>170.20078</td>\n",
       "      <td>151.29</td>\n",
       "      <td>13.16417</td>\n",
       "    </tr>\n",
       "    <tr>\n",
       "      <th>2019-12-01 00:00:07.698000</th>\n",
       "      <td>ETHUSDT</td>\n",
       "      <td>151.37</td>\n",
       "      <td>5.30000</td>\n",
       "      <td>151.34</td>\n",
       "      <td>8.38000</td>\n",
       "      <td>151.38</td>\n",
       "      <td>16.68930</td>\n",
       "      <td>151.33</td>\n",
       "      <td>10.68930</td>\n",
       "      <td>151.39</td>\n",
       "      <td>...</td>\n",
       "      <td>151.32</td>\n",
       "      <td>30.10000</td>\n",
       "      <td>151.40</td>\n",
       "      <td>19.82020</td>\n",
       "      <td>151.30</td>\n",
       "      <td>7.59449</td>\n",
       "      <td>151.41</td>\n",
       "      <td>2.07794</td>\n",
       "      <td>151.29</td>\n",
       "      <td>13.16417</td>\n",
       "    </tr>\n",
       "    <tr>\n",
       "      <th>2019-12-01 00:00:07.798000</th>\n",
       "      <td>ETHUSDT</td>\n",
       "      <td>151.37</td>\n",
       "      <td>8.98930</td>\n",
       "      <td>151.34</td>\n",
       "      <td>8.68000</td>\n",
       "      <td>151.39</td>\n",
       "      <td>95.66954</td>\n",
       "      <td>151.33</td>\n",
       "      <td>10.68930</td>\n",
       "      <td>151.40</td>\n",
       "      <td>...</td>\n",
       "      <td>151.32</td>\n",
       "      <td>30.10000</td>\n",
       "      <td>151.41</td>\n",
       "      <td>2.07794</td>\n",
       "      <td>151.30</td>\n",
       "      <td>7.59449</td>\n",
       "      <td>151.42</td>\n",
       "      <td>170.20078</td>\n",
       "      <td>151.29</td>\n",
       "      <td>13.16417</td>\n",
       "    </tr>\n",
       "    <tr>\n",
       "      <th>2019-12-01 00:00:07.999000</th>\n",
       "      <td>ETHUSDT</td>\n",
       "      <td>151.37</td>\n",
       "      <td>8.98930</td>\n",
       "      <td>151.34</td>\n",
       "      <td>8.68000</td>\n",
       "      <td>151.39</td>\n",
       "      <td>95.66954</td>\n",
       "      <td>151.33</td>\n",
       "      <td>10.68930</td>\n",
       "      <td>151.40</td>\n",
       "      <td>...</td>\n",
       "      <td>151.32</td>\n",
       "      <td>30.10000</td>\n",
       "      <td>151.41</td>\n",
       "      <td>2.07794</td>\n",
       "      <td>151.30</td>\n",
       "      <td>7.59449</td>\n",
       "      <td>151.42</td>\n",
       "      <td>170.20078</td>\n",
       "      <td>151.29</td>\n",
       "      <td>4.76354</td>\n",
       "    </tr>\n",
       "    <tr>\n",
       "      <th>...</th>\n",
       "      <td>...</td>\n",
       "      <td>...</td>\n",
       "      <td>...</td>\n",
       "      <td>...</td>\n",
       "      <td>...</td>\n",
       "      <td>...</td>\n",
       "      <td>...</td>\n",
       "      <td>...</td>\n",
       "      <td>...</td>\n",
       "      <td>...</td>\n",
       "      <td>...</td>\n",
       "      <td>...</td>\n",
       "      <td>...</td>\n",
       "      <td>...</td>\n",
       "      <td>...</td>\n",
       "      <td>...</td>\n",
       "      <td>...</td>\n",
       "      <td>...</td>\n",
       "      <td>...</td>\n",
       "      <td>...</td>\n",
       "      <td>...</td>\n",
       "    </tr>\n",
       "    <tr>\n",
       "      <th>2019-12-01 23:59:58.808000</th>\n",
       "      <td>ETHUSDT</td>\n",
       "      <td>150.73</td>\n",
       "      <td>11.59299</td>\n",
       "      <td>150.72</td>\n",
       "      <td>14.24957</td>\n",
       "      <td>150.75</td>\n",
       "      <td>21.61903</td>\n",
       "      <td>150.70</td>\n",
       "      <td>5.48999</td>\n",
       "      <td>150.76</td>\n",
       "      <td>...</td>\n",
       "      <td>150.69</td>\n",
       "      <td>2.49412</td>\n",
       "      <td>150.78</td>\n",
       "      <td>0.34853</td>\n",
       "      <td>150.67</td>\n",
       "      <td>2.13666</td>\n",
       "      <td>150.79</td>\n",
       "      <td>7.36119</td>\n",
       "      <td>150.65</td>\n",
       "      <td>8.06938</td>\n",
       "    </tr>\n",
       "    <tr>\n",
       "      <th>2019-12-01 23:59:59.108000</th>\n",
       "      <td>ETHUSDT</td>\n",
       "      <td>150.73</td>\n",
       "      <td>11.59299</td>\n",
       "      <td>150.72</td>\n",
       "      <td>14.24957</td>\n",
       "      <td>150.75</td>\n",
       "      <td>19.90703</td>\n",
       "      <td>150.70</td>\n",
       "      <td>5.48999</td>\n",
       "      <td>150.76</td>\n",
       "      <td>...</td>\n",
       "      <td>150.69</td>\n",
       "      <td>2.49412</td>\n",
       "      <td>150.78</td>\n",
       "      <td>0.34853</td>\n",
       "      <td>150.67</td>\n",
       "      <td>2.13666</td>\n",
       "      <td>150.79</td>\n",
       "      <td>7.06119</td>\n",
       "      <td>150.65</td>\n",
       "      <td>8.06938</td>\n",
       "    </tr>\n",
       "    <tr>\n",
       "      <th>2019-12-01 23:59:59.208000</th>\n",
       "      <td>ETHUSDT</td>\n",
       "      <td>150.73</td>\n",
       "      <td>11.59299</td>\n",
       "      <td>150.72</td>\n",
       "      <td>14.24957</td>\n",
       "      <td>150.75</td>\n",
       "      <td>19.90703</td>\n",
       "      <td>150.70</td>\n",
       "      <td>5.48999</td>\n",
       "      <td>150.76</td>\n",
       "      <td>...</td>\n",
       "      <td>150.69</td>\n",
       "      <td>2.49412</td>\n",
       "      <td>150.78</td>\n",
       "      <td>0.34853</td>\n",
       "      <td>150.67</td>\n",
       "      <td>15.24662</td>\n",
       "      <td>150.79</td>\n",
       "      <td>7.06119</td>\n",
       "      <td>150.65</td>\n",
       "      <td>8.06938</td>\n",
       "    </tr>\n",
       "    <tr>\n",
       "      <th>2019-12-01 23:59:59.408000</th>\n",
       "      <td>ETHUSDT</td>\n",
       "      <td>150.73</td>\n",
       "      <td>11.59299</td>\n",
       "      <td>150.72</td>\n",
       "      <td>14.24957</td>\n",
       "      <td>150.75</td>\n",
       "      <td>19.90703</td>\n",
       "      <td>150.70</td>\n",
       "      <td>7.74586</td>\n",
       "      <td>150.76</td>\n",
       "      <td>...</td>\n",
       "      <td>150.69</td>\n",
       "      <td>0.24957</td>\n",
       "      <td>150.78</td>\n",
       "      <td>0.34853</td>\n",
       "      <td>150.67</td>\n",
       "      <td>15.24662</td>\n",
       "      <td>150.79</td>\n",
       "      <td>7.06119</td>\n",
       "      <td>150.65</td>\n",
       "      <td>8.06938</td>\n",
       "    </tr>\n",
       "    <tr>\n",
       "      <th>2019-12-01 23:59:59.708000</th>\n",
       "      <td>ETHUSDT</td>\n",
       "      <td>150.73</td>\n",
       "      <td>11.59299</td>\n",
       "      <td>150.72</td>\n",
       "      <td>14.24957</td>\n",
       "      <td>150.75</td>\n",
       "      <td>19.90703</td>\n",
       "      <td>150.70</td>\n",
       "      <td>7.74586</td>\n",
       "      <td>150.76</td>\n",
       "      <td>...</td>\n",
       "      <td>150.69</td>\n",
       "      <td>0.24957</td>\n",
       "      <td>150.79</td>\n",
       "      <td>7.06119</td>\n",
       "      <td>150.67</td>\n",
       "      <td>15.24662</td>\n",
       "      <td>150.80</td>\n",
       "      <td>41.98652</td>\n",
       "      <td>150.65</td>\n",
       "      <td>8.06938</td>\n",
       "    </tr>\n",
       "  </tbody>\n",
       "</table>\n",
       "<p>488848 rows × 21 columns</p>\n",
       "</div>"
      ],
      "text/plain": [
       "                             symbol     ap0        av0     bp0       bv0  \\\n",
       "time                                                                       \n",
       "2019-12-01 00:00:07.437331  ETHUSDT  151.39  242.04108  151.35   0.30000   \n",
       "2019-12-01 00:00:07.598000  ETHUSDT  151.38   13.00000  151.34  11.72402   \n",
       "2019-12-01 00:00:07.698000  ETHUSDT  151.37    5.30000  151.34   8.38000   \n",
       "2019-12-01 00:00:07.798000  ETHUSDT  151.37    8.98930  151.34   8.68000   \n",
       "2019-12-01 00:00:07.999000  ETHUSDT  151.37    8.98930  151.34   8.68000   \n",
       "...                             ...     ...        ...     ...       ...   \n",
       "2019-12-01 23:59:58.808000  ETHUSDT  150.73   11.59299  150.72  14.24957   \n",
       "2019-12-01 23:59:59.108000  ETHUSDT  150.73   11.59299  150.72  14.24957   \n",
       "2019-12-01 23:59:59.208000  ETHUSDT  150.73   11.59299  150.72  14.24957   \n",
       "2019-12-01 23:59:59.408000  ETHUSDT  150.73   11.59299  150.72  14.24957   \n",
       "2019-12-01 23:59:59.708000  ETHUSDT  150.73   11.59299  150.72  14.24957   \n",
       "\n",
       "                               ap1       av1     bp1       bv1     ap2  ...  \\\n",
       "time                                                                    ...   \n",
       "2019-12-01 00:00:07.437331  151.40  19.82020  151.34  12.02402  151.41  ...   \n",
       "2019-12-01 00:00:07.598000  151.39  98.16599  151.33   7.00000  151.40  ...   \n",
       "2019-12-01 00:00:07.698000  151.38  16.68930  151.33  10.68930  151.39  ...   \n",
       "2019-12-01 00:00:07.798000  151.39  95.66954  151.33  10.68930  151.40  ...   \n",
       "2019-12-01 00:00:07.999000  151.39  95.66954  151.33  10.68930  151.40  ...   \n",
       "...                            ...       ...     ...       ...     ...  ...   \n",
       "2019-12-01 23:59:58.808000  150.75  21.61903  150.70   5.48999  150.76  ...   \n",
       "2019-12-01 23:59:59.108000  150.75  19.90703  150.70   5.48999  150.76  ...   \n",
       "2019-12-01 23:59:59.208000  150.75  19.90703  150.70   5.48999  150.76  ...   \n",
       "2019-12-01 23:59:59.408000  150.75  19.90703  150.70   7.74586  150.76  ...   \n",
       "2019-12-01 23:59:59.708000  150.75  19.90703  150.70   7.74586  150.76  ...   \n",
       "\n",
       "                               bp2       bv2     ap3       av3     bp3  \\\n",
       "time                                                                     \n",
       "2019-12-01 00:00:07.437331  151.33   7.00000  151.42  30.20078  151.32   \n",
       "2019-12-01 00:00:07.598000  151.32  30.10000  151.41   2.07794  151.30   \n",
       "2019-12-01 00:00:07.698000  151.32  30.10000  151.40  19.82020  151.30   \n",
       "2019-12-01 00:00:07.798000  151.32  30.10000  151.41   2.07794  151.30   \n",
       "2019-12-01 00:00:07.999000  151.32  30.10000  151.41   2.07794  151.30   \n",
       "...                            ...       ...     ...       ...     ...   \n",
       "2019-12-01 23:59:58.808000  150.69   2.49412  150.78   0.34853  150.67   \n",
       "2019-12-01 23:59:59.108000  150.69   2.49412  150.78   0.34853  150.67   \n",
       "2019-12-01 23:59:59.208000  150.69   2.49412  150.78   0.34853  150.67   \n",
       "2019-12-01 23:59:59.408000  150.69   0.24957  150.78   0.34853  150.67   \n",
       "2019-12-01 23:59:59.708000  150.69   0.24957  150.79   7.06119  150.67   \n",
       "\n",
       "                                 bv3     ap4        av4     bp4       bv4  \n",
       "time                                                                       \n",
       "2019-12-01 00:00:07.437331  30.10000  151.43    9.96273  151.30   7.59449  \n",
       "2019-12-01 00:00:07.598000   7.59449  151.42  170.20078  151.29  13.16417  \n",
       "2019-12-01 00:00:07.698000   7.59449  151.41    2.07794  151.29  13.16417  \n",
       "2019-12-01 00:00:07.798000   7.59449  151.42  170.20078  151.29  13.16417  \n",
       "2019-12-01 00:00:07.999000   7.59449  151.42  170.20078  151.29   4.76354  \n",
       "...                              ...     ...        ...     ...       ...  \n",
       "2019-12-01 23:59:58.808000   2.13666  150.79    7.36119  150.65   8.06938  \n",
       "2019-12-01 23:59:59.108000   2.13666  150.79    7.06119  150.65   8.06938  \n",
       "2019-12-01 23:59:59.208000  15.24662  150.79    7.06119  150.65   8.06938  \n",
       "2019-12-01 23:59:59.408000  15.24662  150.79    7.06119  150.65   8.06938  \n",
       "2019-12-01 23:59:59.708000  15.24662  150.80   41.98652  150.65   8.06938  \n",
       "\n",
       "[488848 rows x 21 columns]"
      ]
     },
     "execution_count": 3,
     "metadata": {},
     "output_type": "execute_result"
    }
   ],
   "source": [
    "z"
   ]
  },
  {
   "cell_type": "code",
   "execution_count": 4,
   "metadata": {},
   "outputs": [],
   "source": [
    "# 計算odb因子\n",
    "def orderbook_imbalance(z:pd.DataFrame,n:int = 3) -> pd.Series:\n",
    "    '''订单薄失衡'''\n",
    "    # 计算bid一侧\n",
    "    bid_p_previous = z[f'bp1'].shift(1)\n",
    "    bid_p_current = z[f'bp1']\n",
    "    # 当前bid price大于上一刻的bid price,增量为当前的挂单量也就是bid_v\n",
    "    delta_v1 = (bid_p_current > bid_p_previous) * z['bv1']\n",
    "    # 当前bid price小于上一刻的bid price,增量为前一刻被成交的量取负数\n",
    "    delta_v2 = (bid_p_current < bid_p_previous) * z['bv1'].shift(1) * -1.\n",
    "    # 当前bid price等于上一刻的bid price,增量为当前的挂单量减去前一刻的挂单量\n",
    "    delta_v3 = (bid_p_current == bid_p_previous) * (z['bv1'] - z['bv1'].shift(1))\n",
    "    # 三者相加，得到最终的delta_v\n",
    "    delta_bid_v = delta_v1 + delta_v2 + delta_v3\n",
    "\n",
    "    # 计算ask一侧\n",
    "    ask_p_previous = z['ap1'].shift(1)\n",
    "    ask_p_current = z['ap1']\n",
    "    # 当前ask price大于上一刻的ask price,增量为前一刻被成交量取负数\n",
    "    delta_v1 = (ask_p_current > ask_p_previous) * z['av1'].shift(1) * -1.\n",
    "    # 当前aid price小于上一刻的aid price,增量为当前的挂单量也就是bid_v\n",
    "    delta_v2 = (ask_p_current < ask_p_previous) * z['av1']\n",
    "    # 当前ask price等于上一刻的ask price,增量为当前的挂单量减去前一刻的挂单量\n",
    "    delta_v3 = (ask_p_current == ask_p_previous) * (z['av1'] - z['av1'].shift(1))\n",
    "    # 三者相加，得到最终的delta_v\n",
    "    \n",
    "    # (新的高价买单进入 → 买方积极)  + (原有买单被消耗 → 买方力量减弱) + (同价位挂单变化 → 直接计算差值)\n",
    "    delta_ask_v = delta_v1 + delta_v2 + delta_v3\n",
    "\n",
    "    orderbook_imbalance_factor = delta_bid_v - delta_ask_v\n",
    "\n",
    "    return orderbook_imbalance_factor"
   ]
  },
  {
   "cell_type": "code",
   "execution_count": 5,
   "metadata": {},
   "outputs": [],
   "source": [
    "odb_imb = orderbook_imbalance(z)"
   ]
  },
  {
   "cell_type": "code",
   "execution_count": 6,
   "metadata": {},
   "outputs": [
    {
     "data": {
      "text/plain": [
       "time\n",
       "2019-12-01 00:00:07.437331          NaN\n",
       "2019-12-01 00:00:07.598000   -110.19001\n",
       "2019-12-01 00:00:07.698000    -13.00000\n",
       "2019-12-01 00:00:07.798000     16.68930\n",
       "2019-12-01 00:00:07.999000      0.00000\n",
       "                                ...    \n",
       "2019-12-01 23:59:58.808000      0.00000\n",
       "2019-12-01 23:59:59.108000      1.71200\n",
       "2019-12-01 23:59:59.208000      0.00000\n",
       "2019-12-01 23:59:59.408000      2.25587\n",
       "2019-12-01 23:59:59.708000      0.00000\n",
       "Length: 488848, dtype: float64"
      ]
     },
     "execution_count": 6,
     "metadata": {},
     "output_type": "execute_result"
    }
   ],
   "source": [
    "odb_imb"
   ]
  },
  {
   "cell_type": "code",
   "execution_count": 7,
   "metadata": {},
   "outputs": [
    {
     "data": {
      "text/plain": [
       "time\n",
       "2019-12-01 00:00:07.437331         NaN\n",
       "2019-12-01 00:00:07.598000         NaN\n",
       "2019-12-01 00:00:07.698000         NaN\n",
       "2019-12-01 00:00:07.798000         NaN\n",
       "2019-12-01 00:00:07.999000         NaN\n",
       "                                ...   \n",
       "2019-12-01 23:59:58.808000    0.015896\n",
       "2019-12-01 23:59:59.108000    0.138638\n",
       "2019-12-01 23:59:59.208000    0.015835\n",
       "2019-12-01 23:59:59.408000    0.177568\n",
       "2019-12-01 23:59:59.708000    0.015557\n",
       "Length: 488848, dtype: float64"
      ]
     },
     "execution_count": 7,
     "metadata": {},
     "output_type": "execute_result"
    }
   ],
   "source": [
    "# 滚动标准化z-score\n",
    "import talib as ta\n",
    "mean_ = ta.MA(odb_imb,2000)\n",
    "std_ = ta.STDDEV(odb_imb,2000)\n",
    "# 减去均值是做中心化处理，让因子值围绕均值分布。\n",
    "# 除以标准差是为了缩放\n",
    "(odb_imb-mean_)/std_"
   ]
  },
  {
   "cell_type": "code",
   "execution_count": 8,
   "metadata": {},
   "outputs": [
    {
     "data": {
      "text/plain": [
       "<Axes: >"
      ]
     },
     "execution_count": 8,
     "metadata": {},
     "output_type": "execute_result"
    },
    {
     "data": {
      "image/png": "[encoded data removed]",
      "text/plain": [
       "<Figure size 640x480 with 1 Axes>"
      ]
     },
     "metadata": {},
     "output_type": "display_data"
    }
   ],
   "source": [
    "# 因子要不要做處理？\n",
    "# 觀察因子的分佈情況\n",
    "odb_imb.hist(bins=100)"
   ]
  },
  {
   "cell_type": "code",
   "execution_count": 9,
   "metadata": {},
   "outputs": [
    {
     "data": {
      "text/plain": [
       "count    488847.000000\n",
       "mean         -0.112396\n",
       "std          58.552897\n",
       "min       -5262.722030\n",
       "25%          -2.413120\n",
       "50%           0.000000\n",
       "75%           2.360230\n",
       "max        5300.536690\n",
       "dtype: float64"
      ]
     },
     "execution_count": 9,
     "metadata": {},
     "output_type": "execute_result"
    }
   ],
   "source": [
    "odb_imb.describe()"
   ]
  },
  {
   "cell_type": "code",
   "execution_count": 10,
   "metadata": {},
   "outputs": [
    {
     "name": "stdout",
     "output_type": "stream",
     "text": [
      "95%分位值: 21.96554\n",
      "-95%分位值: -22.686977\n"
     ]
    }
   ],
   "source": [
    "max_value=odb_imb.quantile(0.95)\n",
    "min_value=odb_imb.quantile(0.05)\n",
    "print(\"95%分位值:\", max_value)\n",
    "print(\"-95%分位值:\",min_value)"
   ]
  },
  {
   "cell_type": "code",
   "execution_count": 11,
   "metadata": {},
   "outputs": [],
   "source": [
    "# 对因子进行裁剪\n",
    "clipped_ = odb_imb.clip(min_value,max_value)"
   ]
  },
  {
   "cell_type": "code",
   "execution_count": 63,
   "metadata": {},
   "outputs": [
    {
     "data": {
      "text/plain": [
       "time\n",
       "2019-12-01 00:00:07.437331          NaN\n",
       "2019-12-01 00:00:07.598000   -110.19001\n",
       "2019-12-01 00:00:07.698000    -13.00000\n",
       "2019-12-01 00:00:07.798000     16.68930\n",
       "2019-12-01 00:00:07.999000      0.00000\n",
       "                                ...    \n",
       "2019-12-01 23:59:58.808000      0.00000\n",
       "2019-12-01 23:59:59.108000      1.71200\n",
       "2019-12-01 23:59:59.208000      0.00000\n",
       "2019-12-01 23:59:59.408000      2.25587\n",
       "2019-12-01 23:59:59.708000      0.00000\n",
       "Length: 488848, dtype: float64"
      ]
     },
     "execution_count": 63,
     "metadata": {},
     "output_type": "execute_result"
    }
   ],
   "source": [
    "odb_imb"
   ]
  },
  {
   "cell_type": "code",
   "execution_count": 12,
   "metadata": {},
   "outputs": [
    {
     "data": {
      "text/plain": [
       "time\n",
       "2019-12-01 00:00:07.437331          NaN\n",
       "2019-12-01 00:00:07.598000   -22.686977\n",
       "2019-12-01 00:00:07.698000   -13.000000\n",
       "2019-12-01 00:00:07.798000    16.689300\n",
       "2019-12-01 00:00:07.999000     0.000000\n",
       "                                ...    \n",
       "2019-12-01 23:59:58.808000     0.000000\n",
       "2019-12-01 23:59:59.108000     1.712000\n",
       "2019-12-01 23:59:59.208000     0.000000\n",
       "2019-12-01 23:59:59.408000     2.255870\n",
       "2019-12-01 23:59:59.708000     0.000000\n",
       "Length: 488848, dtype: float64"
      ]
     },
     "execution_count": 12,
     "metadata": {},
     "output_type": "execute_result"
    }
   ],
   "source": [
    "clipped_"
   ]
  },
  {
   "cell_type": "code",
   "execution_count": null,
   "metadata": {},
   "outputs": [],
   "source": []
  },
  {
   "cell_type": "code",
   "execution_count": 13,
   "metadata": {},
   "outputs": [],
   "source": [
    "# index必须是时间戳，label\n",
    "resampled_clipped = clipped_.iloc[1:].resample('1s',label='right').aggregate('sum')"
   ]
  },
  {
   "cell_type": "code",
   "execution_count": 14,
   "metadata": {},
   "outputs": [
    {
     "data": {
      "text/plain": [
       "time\n",
       "2019-12-01 00:00:08   -18.997677\n",
       "2019-12-01 00:00:09     3.610700\n",
       "2019-12-01 00:00:10     9.700000\n",
       "2019-12-01 00:00:11    -8.701080\n",
       "2019-12-01 00:00:12     3.997680\n",
       "                         ...    \n",
       "2019-12-01 23:59:56    -2.153840\n",
       "2019-12-01 23:59:57     0.000000\n",
       "2019-12-01 23:59:58   -17.674190\n",
       "2019-12-01 23:59:59    -2.232840\n",
       "2019-12-02 00:00:00     3.967870\n",
       "Freq: S, Length: 86393, dtype: float64"
      ]
     },
     "execution_count": 14,
     "metadata": {},
     "output_type": "execute_result"
    }
   ],
   "source": [
    "resampled_clipped"
   ]
  },
  {
   "cell_type": "code",
   "execution_count": 15,
   "metadata": {},
   "outputs": [
    {
     "data": {
      "text/html": [
       "<div>\n",
       "<style scoped>\n",
       "    .dataframe tbody tr th:only-of-type {\n",
       "        vertical-align: middle;\n",
       "    }\n",
       "\n",
       "    .dataframe tbody tr th {\n",
       "        vertical-align: top;\n",
       "    }\n",
       "\n",
       "    .dataframe thead th {\n",
       "        text-align: right;\n",
       "    }\n",
       "</style>\n",
       "<table border=\"1\" class=\"dataframe\">\n",
       "  <thead>\n",
       "    <tr style=\"text-align: right;\">\n",
       "      <th></th>\n",
       "      <th>symbol</th>\n",
       "      <th>ap0</th>\n",
       "      <th>av0</th>\n",
       "      <th>bp0</th>\n",
       "      <th>bv0</th>\n",
       "      <th>ap1</th>\n",
       "      <th>av1</th>\n",
       "      <th>bp1</th>\n",
       "      <th>bv1</th>\n",
       "      <th>ap2</th>\n",
       "      <th>...</th>\n",
       "      <th>bp2</th>\n",
       "      <th>bv2</th>\n",
       "      <th>ap3</th>\n",
       "      <th>av3</th>\n",
       "      <th>bp3</th>\n",
       "      <th>bv3</th>\n",
       "      <th>ap4</th>\n",
       "      <th>av4</th>\n",
       "      <th>bp4</th>\n",
       "      <th>bv4</th>\n",
       "    </tr>\n",
       "    <tr>\n",
       "      <th>time</th>\n",
       "      <th></th>\n",
       "      <th></th>\n",
       "      <th></th>\n",
       "      <th></th>\n",
       "      <th></th>\n",
       "      <th></th>\n",
       "      <th></th>\n",
       "      <th></th>\n",
       "      <th></th>\n",
       "      <th></th>\n",
       "      <th></th>\n",
       "      <th></th>\n",
       "      <th></th>\n",
       "      <th></th>\n",
       "      <th></th>\n",
       "      <th></th>\n",
       "      <th></th>\n",
       "      <th></th>\n",
       "      <th></th>\n",
       "      <th></th>\n",
       "      <th></th>\n",
       "    </tr>\n",
       "  </thead>\n",
       "  <tbody>\n",
       "    <tr>\n",
       "      <th>2019-12-01 00:00:07.437331</th>\n",
       "      <td>ETHUSDT</td>\n",
       "      <td>151.39</td>\n",
       "      <td>242.04108</td>\n",
       "      <td>151.35</td>\n",
       "      <td>0.30000</td>\n",
       "      <td>151.40</td>\n",
       "      <td>19.82020</td>\n",
       "      <td>151.34</td>\n",
       "      <td>12.02402</td>\n",
       "      <td>151.41</td>\n",
       "      <td>...</td>\n",
       "      <td>151.33</td>\n",
       "      <td>7.00000</td>\n",
       "      <td>151.42</td>\n",
       "      <td>30.20078</td>\n",
       "      <td>151.32</td>\n",
       "      <td>30.10000</td>\n",
       "      <td>151.43</td>\n",
       "      <td>9.96273</td>\n",
       "      <td>151.30</td>\n",
       "      <td>7.59449</td>\n",
       "    </tr>\n",
       "    <tr>\n",
       "      <th>2019-12-01 00:00:07.598000</th>\n",
       "      <td>ETHUSDT</td>\n",
       "      <td>151.38</td>\n",
       "      <td>13.00000</td>\n",
       "      <td>151.34</td>\n",
       "      <td>11.72402</td>\n",
       "      <td>151.39</td>\n",
       "      <td>98.16599</td>\n",
       "      <td>151.33</td>\n",
       "      <td>7.00000</td>\n",
       "      <td>151.40</td>\n",
       "      <td>...</td>\n",
       "      <td>151.32</td>\n",
       "      <td>30.10000</td>\n",
       "      <td>151.41</td>\n",
       "      <td>2.07794</td>\n",
       "      <td>151.30</td>\n",
       "      <td>7.59449</td>\n",
       "      <td>151.42</td>\n",
       "      <td>170.20078</td>\n",
       "      <td>151.29</td>\n",
       "      <td>13.16417</td>\n",
       "    </tr>\n",
       "    <tr>\n",
       "      <th>2019-12-01 00:00:07.698000</th>\n",
       "      <td>ETHUSDT</td>\n",
       "      <td>151.37</td>\n",
       "      <td>5.30000</td>\n",
       "      <td>151.34</td>\n",
       "      <td>8.38000</td>\n",
       "      <td>151.38</td>\n",
       "      <td>16.68930</td>\n",
       "      <td>151.33</td>\n",
       "      <td>10.68930</td>\n",
       "      <td>151.39</td>\n",
       "      <td>...</td>\n",
       "      <td>151.32</td>\n",
       "      <td>30.10000</td>\n",
       "      <td>151.40</td>\n",
       "      <td>19.82020</td>\n",
       "      <td>151.30</td>\n",
       "      <td>7.59449</td>\n",
       "      <td>151.41</td>\n",
       "      <td>2.07794</td>\n",
       "      <td>151.29</td>\n",
       "      <td>13.16417</td>\n",
       "    </tr>\n",
       "    <tr>\n",
       "      <th>2019-12-01 00:00:07.798000</th>\n",
       "      <td>ETHUSDT</td>\n",
       "      <td>151.37</td>\n",
       "      <td>8.98930</td>\n",
       "      <td>151.34</td>\n",
       "      <td>8.68000</td>\n",
       "      <td>151.39</td>\n",
       "      <td>95.66954</td>\n",
       "      <td>151.33</td>\n",
       "      <td>10.68930</td>\n",
       "      <td>151.40</td>\n",
       "      <td>...</td>\n",
       "      <td>151.32</td>\n",
       "      <td>30.10000</td>\n",
       "      <td>151.41</td>\n",
       "      <td>2.07794</td>\n",
       "      <td>151.30</td>\n",
       "      <td>7.59449</td>\n",
       "      <td>151.42</td>\n",
       "      <td>170.20078</td>\n",
       "      <td>151.29</td>\n",
       "      <td>13.16417</td>\n",
       "    </tr>\n",
       "    <tr>\n",
       "      <th>2019-12-01 00:00:07.999000</th>\n",
       "      <td>ETHUSDT</td>\n",
       "      <td>151.37</td>\n",
       "      <td>8.98930</td>\n",
       "      <td>151.34</td>\n",
       "      <td>8.68000</td>\n",
       "      <td>151.39</td>\n",
       "      <td>95.66954</td>\n",
       "      <td>151.33</td>\n",
       "      <td>10.68930</td>\n",
       "      <td>151.40</td>\n",
       "      <td>...</td>\n",
       "      <td>151.32</td>\n",
       "      <td>30.10000</td>\n",
       "      <td>151.41</td>\n",
       "      <td>2.07794</td>\n",
       "      <td>151.30</td>\n",
       "      <td>7.59449</td>\n",
       "      <td>151.42</td>\n",
       "      <td>170.20078</td>\n",
       "      <td>151.29</td>\n",
       "      <td>4.76354</td>\n",
       "    </tr>\n",
       "    <tr>\n",
       "      <th>...</th>\n",
       "      <td>...</td>\n",
       "      <td>...</td>\n",
       "      <td>...</td>\n",
       "      <td>...</td>\n",
       "      <td>...</td>\n",
       "      <td>...</td>\n",
       "      <td>...</td>\n",
       "      <td>...</td>\n",
       "      <td>...</td>\n",
       "      <td>...</td>\n",
       "      <td>...</td>\n",
       "      <td>...</td>\n",
       "      <td>...</td>\n",
       "      <td>...</td>\n",
       "      <td>...</td>\n",
       "      <td>...</td>\n",
       "      <td>...</td>\n",
       "      <td>...</td>\n",
       "      <td>...</td>\n",
       "      <td>...</td>\n",
       "      <td>...</td>\n",
       "    </tr>\n",
       "    <tr>\n",
       "      <th>2019-12-01 23:59:58.808000</th>\n",
       "      <td>ETHUSDT</td>\n",
       "      <td>150.73</td>\n",
       "      <td>11.59299</td>\n",
       "      <td>150.72</td>\n",
       "      <td>14.24957</td>\n",
       "      <td>150.75</td>\n",
       "      <td>21.61903</td>\n",
       "      <td>150.70</td>\n",
       "      <td>5.48999</td>\n",
       "      <td>150.76</td>\n",
       "      <td>...</td>\n",
       "      <td>150.69</td>\n",
       "      <td>2.49412</td>\n",
       "      <td>150.78</td>\n",
       "      <td>0.34853</td>\n",
       "      <td>150.67</td>\n",
       "      <td>2.13666</td>\n",
       "      <td>150.79</td>\n",
       "      <td>7.36119</td>\n",
       "      <td>150.65</td>\n",
       "      <td>8.06938</td>\n",
       "    </tr>\n",
       "    <tr>\n",
       "      <th>2019-12-01 23:59:59.108000</th>\n",
       "      <td>ETHUSDT</td>\n",
       "      <td>150.73</td>\n",
       "      <td>11.59299</td>\n",
       "      <td>150.72</td>\n",
       "      <td>14.24957</td>\n",
       "      <td>150.75</td>\n",
       "      <td>19.90703</td>\n",
       "      <td>150.70</td>\n",
       "      <td>5.48999</td>\n",
       "      <td>150.76</td>\n",
       "      <td>...</td>\n",
       "      <td>150.69</td>\n",
       "      <td>2.49412</td>\n",
       "      <td>150.78</td>\n",
       "      <td>0.34853</td>\n",
       "      <td>150.67</td>\n",
       "      <td>2.13666</td>\n",
       "      <td>150.79</td>\n",
       "      <td>7.06119</td>\n",
       "      <td>150.65</td>\n",
       "      <td>8.06938</td>\n",
       "    </tr>\n",
       "    <tr>\n",
       "      <th>2019-12-01 23:59:59.208000</th>\n",
       "      <td>ETHUSDT</td>\n",
       "      <td>150.73</td>\n",
       "      <td>11.59299</td>\n",
       "      <td>150.72</td>\n",
       "      <td>14.24957</td>\n",
       "      <td>150.75</td>\n",
       "      <td>19.90703</td>\n",
       "      <td>150.70</td>\n",
       "      <td>5.48999</td>\n",
       "      <td>150.76</td>\n",
       "      <td>...</td>\n",
       "      <td>150.69</td>\n",
       "      <td>2.49412</td>\n",
       "      <td>150.78</td>\n",
       "      <td>0.34853</td>\n",
       "      <td>150.67</td>\n",
       "      <td>15.24662</td>\n",
       "      <td>150.79</td>\n",
       "      <td>7.06119</td>\n",
       "      <td>150.65</td>\n",
       "      <td>8.06938</td>\n",
       "    </tr>\n",
       "    <tr>\n",
       "      <th>2019-12-01 23:59:59.408000</th>\n",
       "      <td>ETHUSDT</td>\n",
       "      <td>150.73</td>\n",
       "      <td>11.59299</td>\n",
       "      <td>150.72</td>\n",
       "      <td>14.24957</td>\n",
       "      <td>150.75</td>\n",
       "      <td>19.90703</td>\n",
       "      <td>150.70</td>\n",
       "      <td>7.74586</td>\n",
       "      <td>150.76</td>\n",
       "      <td>...</td>\n",
       "      <td>150.69</td>\n",
       "      <td>0.24957</td>\n",
       "      <td>150.78</td>\n",
       "      <td>0.34853</td>\n",
       "      <td>150.67</td>\n",
       "      <td>15.24662</td>\n",
       "      <td>150.79</td>\n",
       "      <td>7.06119</td>\n",
       "      <td>150.65</td>\n",
       "      <td>8.06938</td>\n",
       "    </tr>\n",
       "    <tr>\n",
       "      <th>2019-12-01 23:59:59.708000</th>\n",
       "      <td>ETHUSDT</td>\n",
       "      <td>150.73</td>\n",
       "      <td>11.59299</td>\n",
       "      <td>150.72</td>\n",
       "      <td>14.24957</td>\n",
       "      <td>150.75</td>\n",
       "      <td>19.90703</td>\n",
       "      <td>150.70</td>\n",
       "      <td>7.74586</td>\n",
       "      <td>150.76</td>\n",
       "      <td>...</td>\n",
       "      <td>150.69</td>\n",
       "      <td>0.24957</td>\n",
       "      <td>150.79</td>\n",
       "      <td>7.06119</td>\n",
       "      <td>150.67</td>\n",
       "      <td>15.24662</td>\n",
       "      <td>150.80</td>\n",
       "      <td>41.98652</td>\n",
       "      <td>150.65</td>\n",
       "      <td>8.06938</td>\n",
       "    </tr>\n",
       "  </tbody>\n",
       "</table>\n",
       "<p>488848 rows × 21 columns</p>\n",
       "</div>"
      ],
      "text/plain": [
       "                             symbol     ap0        av0     bp0       bv0  \\\n",
       "time                                                                       \n",
       "2019-12-01 00:00:07.437331  ETHUSDT  151.39  242.04108  151.35   0.30000   \n",
       "2019-12-01 00:00:07.598000  ETHUSDT  151.38   13.00000  151.34  11.72402   \n",
       "2019-12-01 00:00:07.698000  ETHUSDT  151.37    5.30000  151.34   8.38000   \n",
       "2019-12-01 00:00:07.798000  ETHUSDT  151.37    8.98930  151.34   8.68000   \n",
       "2019-12-01 00:00:07.999000  ETHUSDT  151.37    8.98930  151.34   8.68000   \n",
       "...                             ...     ...        ...     ...       ...   \n",
       "2019-12-01 23:59:58.808000  ETHUSDT  150.73   11.59299  150.72  14.24957   \n",
       "2019-12-01 23:59:59.108000  ETHUSDT  150.73   11.59299  150.72  14.24957   \n",
       "2019-12-01 23:59:59.208000  ETHUSDT  150.73   11.59299  150.72  14.24957   \n",
       "2019-12-01 23:59:59.408000  ETHUSDT  150.73   11.59299  150.72  14.24957   \n",
       "2019-12-01 23:59:59.708000  ETHUSDT  150.73   11.59299  150.72  14.24957   \n",
       "\n",
       "                               ap1       av1     bp1       bv1     ap2  ...  \\\n",
       "time                                                                    ...   \n",
       "2019-12-01 00:00:07.437331  151.40  19.82020  151.34  12.02402  151.41  ...   \n",
       "2019-12-01 00:00:07.598000  151.39  98.16599  151.33   7.00000  151.40  ...   \n",
       "2019-12-01 00:00:07.698000  151.38  16.68930  151.33  10.68930  151.39  ...   \n",
       "2019-12-01 00:00:07.798000  151.39  95.66954  151.33  10.68930  151.40  ...   \n",
       "2019-12-01 00:00:07.999000  151.39  95.66954  151.33  10.68930  151.40  ...   \n",
       "...                            ...       ...     ...       ...     ...  ...   \n",
       "2019-12-01 23:59:58.808000  150.75  21.61903  150.70   5.48999  150.76  ...   \n",
       "2019-12-01 23:59:59.108000  150.75  19.90703  150.70   5.48999  150.76  ...   \n",
       "2019-12-01 23:59:59.208000  150.75  19.90703  150.70   5.48999  150.76  ...   \n",
       "2019-12-01 23:59:59.408000  150.75  19.90703  150.70   7.74586  150.76  ...   \n",
       "2019-12-01 23:59:59.708000  150.75  19.90703  150.70   7.74586  150.76  ...   \n",
       "\n",
       "                               bp2       bv2     ap3       av3     bp3  \\\n",
       "time                                                                     \n",
       "2019-12-01 00:00:07.437331  151.33   7.00000  151.42  30.20078  151.32   \n",
       "2019-12-01 00:00:07.598000  151.32  30.10000  151.41   2.07794  151.30   \n",
       "2019-12-01 00:00:07.698000  151.32  30.10000  151.40  19.82020  151.30   \n",
       "2019-12-01 00:00:07.798000  151.32  30.10000  151.41   2.07794  151.30   \n",
       "2019-12-01 00:00:07.999000  151.32  30.10000  151.41   2.07794  151.30   \n",
       "...                            ...       ...     ...       ...     ...   \n",
       "2019-12-01 23:59:58.808000  150.69   2.49412  150.78   0.34853  150.67   \n",
       "2019-12-01 23:59:59.108000  150.69   2.49412  150.78   0.34853  150.67   \n",
       "2019-12-01 23:59:59.208000  150.69   2.49412  150.78   0.34853  150.67   \n",
       "2019-12-01 23:59:59.408000  150.69   0.24957  150.78   0.34853  150.67   \n",
       "2019-12-01 23:59:59.708000  150.69   0.24957  150.79   7.06119  150.67   \n",
       "\n",
       "                                 bv3     ap4        av4     bp4       bv4  \n",
       "time                                                                       \n",
       "2019-12-01 00:00:07.437331  30.10000  151.43    9.96273  151.30   7.59449  \n",
       "2019-12-01 00:00:07.598000   7.59449  151.42  170.20078  151.29  13.16417  \n",
       "2019-12-01 00:00:07.698000   7.59449  151.41    2.07794  151.29  13.16417  \n",
       "2019-12-01 00:00:07.798000   7.59449  151.42  170.20078  151.29  13.16417  \n",
       "2019-12-01 00:00:07.999000   7.59449  151.42  170.20078  151.29   4.76354  \n",
       "...                              ...     ...        ...     ...       ...  \n",
       "2019-12-01 23:59:58.808000   2.13666  150.79    7.36119  150.65   8.06938  \n",
       "2019-12-01 23:59:59.108000   2.13666  150.79    7.06119  150.65   8.06938  \n",
       "2019-12-01 23:59:59.208000  15.24662  150.79    7.06119  150.65   8.06938  \n",
       "2019-12-01 23:59:59.408000  15.24662  150.79    7.06119  150.65   8.06938  \n",
       "2019-12-01 23:59:59.708000  15.24662  150.80   41.98652  150.65   8.06938  \n",
       "\n",
       "[488848 rows x 21 columns]"
      ]
     },
     "execution_count": 15,
     "metadata": {},
     "output_type": "execute_result"
    }
   ],
   "source": [
    "# 对订单薄数据做降采样处理\n",
    "z\n",
    "# 根据切片之间的情况，对切片之间的这笔交易做了一个标记。\n",
    "# 持仓量和价格的联动关系来决定，此时这笔交易属于什么性质\n",
    "# 持仓量上升&价格上升&主买，多开 "
   ]
  },
  {
   "cell_type": "code",
   "execution_count": 17,
   "metadata": {},
   "outputs": [],
   "source": [
    "resampled_z = z.iloc[1:].resample('1s',label='right').aggregate({'bp1':'last',\n",
    "                                                  'bv1':'last',\n",
    "                                                  'ap1':'last',\n",
    "                                                  'av1':'last'\n",
    "                                                  })"
   ]
  },
  {
   "cell_type": "code",
   "execution_count": 18,
   "metadata": {},
   "outputs": [
    {
     "data": {
      "text/html": [
       "<div>\n",
       "<style scoped>\n",
       "    .dataframe tbody tr th:only-of-type {\n",
       "        vertical-align: middle;\n",
       "    }\n",
       "\n",
       "    .dataframe tbody tr th {\n",
       "        vertical-align: top;\n",
       "    }\n",
       "\n",
       "    .dataframe thead th {\n",
       "        text-align: right;\n",
       "    }\n",
       "</style>\n",
       "<table border=\"1\" class=\"dataframe\">\n",
       "  <thead>\n",
       "    <tr style=\"text-align: right;\">\n",
       "      <th></th>\n",
       "      <th>bp1</th>\n",
       "      <th>bv1</th>\n",
       "      <th>ap1</th>\n",
       "      <th>av1</th>\n",
       "    </tr>\n",
       "    <tr>\n",
       "      <th>time</th>\n",
       "      <th></th>\n",
       "      <th></th>\n",
       "      <th></th>\n",
       "      <th></th>\n",
       "    </tr>\n",
       "  </thead>\n",
       "  <tbody>\n",
       "    <tr>\n",
       "      <th>2019-12-01 00:00:08</th>\n",
       "      <td>151.33</td>\n",
       "      <td>10.68930</td>\n",
       "      <td>151.39</td>\n",
       "      <td>95.66954</td>\n",
       "    </tr>\n",
       "    <tr>\n",
       "      <th>2019-12-01 00:00:09</th>\n",
       "      <td>151.33</td>\n",
       "      <td>7.30000</td>\n",
       "      <td>151.37</td>\n",
       "      <td>7.00000</td>\n",
       "    </tr>\n",
       "    <tr>\n",
       "      <th>2019-12-01 00:00:10</th>\n",
       "      <td>151.33</td>\n",
       "      <td>17.00000</td>\n",
       "      <td>151.37</td>\n",
       "      <td>7.00000</td>\n",
       "    </tr>\n",
       "    <tr>\n",
       "      <th>2019-12-01 00:00:11</th>\n",
       "      <td>151.33</td>\n",
       "      <td>7.00000</td>\n",
       "      <td>151.38</td>\n",
       "      <td>3.69768</td>\n",
       "    </tr>\n",
       "    <tr>\n",
       "      <th>2019-12-01 00:00:12</th>\n",
       "      <td>151.33</td>\n",
       "      <td>10.99768</td>\n",
       "      <td>151.38</td>\n",
       "      <td>3.69768</td>\n",
       "    </tr>\n",
       "    <tr>\n",
       "      <th>...</th>\n",
       "      <td>...</td>\n",
       "      <td>...</td>\n",
       "      <td>...</td>\n",
       "      <td>...</td>\n",
       "    </tr>\n",
       "    <tr>\n",
       "      <th>2019-12-01 23:59:56</th>\n",
       "      <td>150.70</td>\n",
       "      <td>5.48999</td>\n",
       "      <td>150.75</td>\n",
       "      <td>1.71200</td>\n",
       "    </tr>\n",
       "    <tr>\n",
       "      <th>2019-12-01 23:59:57</th>\n",
       "      <td>150.70</td>\n",
       "      <td>5.48999</td>\n",
       "      <td>150.75</td>\n",
       "      <td>1.71200</td>\n",
       "    </tr>\n",
       "    <tr>\n",
       "      <th>2019-12-01 23:59:58</th>\n",
       "      <td>150.70</td>\n",
       "      <td>7.72283</td>\n",
       "      <td>150.75</td>\n",
       "      <td>21.61903</td>\n",
       "    </tr>\n",
       "    <tr>\n",
       "      <th>2019-12-01 23:59:59</th>\n",
       "      <td>150.70</td>\n",
       "      <td>5.48999</td>\n",
       "      <td>150.75</td>\n",
       "      <td>21.61903</td>\n",
       "    </tr>\n",
       "    <tr>\n",
       "      <th>2019-12-02 00:00:00</th>\n",
       "      <td>150.70</td>\n",
       "      <td>7.74586</td>\n",
       "      <td>150.75</td>\n",
       "      <td>19.90703</td>\n",
       "    </tr>\n",
       "  </tbody>\n",
       "</table>\n",
       "<p>86393 rows × 4 columns</p>\n",
       "</div>"
      ],
      "text/plain": [
       "                        bp1       bv1     ap1       av1\n",
       "time                                                   \n",
       "2019-12-01 00:00:08  151.33  10.68930  151.39  95.66954\n",
       "2019-12-01 00:00:09  151.33   7.30000  151.37   7.00000\n",
       "2019-12-01 00:00:10  151.33  17.00000  151.37   7.00000\n",
       "2019-12-01 00:00:11  151.33   7.00000  151.38   3.69768\n",
       "2019-12-01 00:00:12  151.33  10.99768  151.38   3.69768\n",
       "...                     ...       ...     ...       ...\n",
       "2019-12-01 23:59:56  150.70   5.48999  150.75   1.71200\n",
       "2019-12-01 23:59:57  150.70   5.48999  150.75   1.71200\n",
       "2019-12-01 23:59:58  150.70   7.72283  150.75  21.61903\n",
       "2019-12-01 23:59:59  150.70   5.48999  150.75  21.61903\n",
       "2019-12-02 00:00:00  150.70   7.74586  150.75  19.90703\n",
       "\n",
       "[86393 rows x 4 columns]"
      ]
     },
     "execution_count": 18,
     "metadata": {},
     "output_type": "execute_result"
    }
   ],
   "source": [
    "# 怎么用odb因子？降频前vs降频后\n",
    "resampled_z"
   ]
  },
  {
   "cell_type": "code",
   "execution_count": 19,
   "metadata": {},
   "outputs": [],
   "source": [
    "midprice = (resampled_z['bp1']+resampled_z['ap1'])/2"
   ]
  },
  {
   "cell_type": "code",
   "execution_count": 20,
   "metadata": {},
   "outputs": [],
   "source": [
    "# 在降频后的订单薄数据上加上一列————未来一个周期的收益率\n",
    "resampled_z['ret_1'] = midprice.shift(-1)/midprice - 1\n",
    "resampled_z['ret_3'] = midprice.shift(-3)/midprice - 1\n",
    "resampled_z['ret_5'] = midprice.shift(-5)/midprice - 1\n",
    "resampled_z['ret_10'] = midprice.shift(-10)/midprice - 1\n",
    "resampled_z['ret_15'] = midprice.shift(-15)/midprice - 1\n",
    "resampled_z['ret_30'] = midprice.shift(-15)/midprice - 1"
   ]
  },
  {
   "cell_type": "code",
   "execution_count": 21,
   "metadata": {},
   "outputs": [
    {
     "data": {
      "text/html": [
       "<div>\n",
       "<style scoped>\n",
       "    .dataframe tbody tr th:only-of-type {\n",
       "        vertical-align: middle;\n",
       "    }\n",
       "\n",
       "    .dataframe tbody tr th {\n",
       "        vertical-align: top;\n",
       "    }\n",
       "\n",
       "    .dataframe thead th {\n",
       "        text-align: right;\n",
       "    }\n",
       "</style>\n",
       "<table border=\"1\" class=\"dataframe\">\n",
       "  <thead>\n",
       "    <tr style=\"text-align: right;\">\n",
       "      <th></th>\n",
       "      <th>bp1</th>\n",
       "      <th>bv1</th>\n",
       "      <th>ap1</th>\n",
       "      <th>av1</th>\n",
       "      <th>ret_1</th>\n",
       "      <th>ret_3</th>\n",
       "      <th>ret_5</th>\n",
       "      <th>ret_10</th>\n",
       "      <th>ret_15</th>\n",
       "      <th>ret_30</th>\n",
       "    </tr>\n",
       "    <tr>\n",
       "      <th>time</th>\n",
       "      <th></th>\n",
       "      <th></th>\n",
       "      <th></th>\n",
       "      <th></th>\n",
       "      <th></th>\n",
       "      <th></th>\n",
       "      <th></th>\n",
       "      <th></th>\n",
       "      <th></th>\n",
       "      <th></th>\n",
       "    </tr>\n",
       "  </thead>\n",
       "  <tbody>\n",
       "    <tr>\n",
       "      <th>2019-12-01 00:00:08</th>\n",
       "      <td>151.33</td>\n",
       "      <td>10.68930</td>\n",
       "      <td>151.39</td>\n",
       "      <td>95.66954</td>\n",
       "      <td>-0.000066</td>\n",
       "      <td>-0.000033</td>\n",
       "      <td>-0.000033</td>\n",
       "      <td>0.000033</td>\n",
       "      <td>-0.000132</td>\n",
       "      <td>-0.000132</td>\n",
       "    </tr>\n",
       "    <tr>\n",
       "      <th>2019-12-01 00:00:09</th>\n",
       "      <td>151.33</td>\n",
       "      <td>7.30000</td>\n",
       "      <td>151.37</td>\n",
       "      <td>7.00000</td>\n",
       "      <td>0.000000</td>\n",
       "      <td>0.000033</td>\n",
       "      <td>0.000066</td>\n",
       "      <td>0.000099</td>\n",
       "      <td>-0.000066</td>\n",
       "      <td>-0.000066</td>\n",
       "    </tr>\n",
       "    <tr>\n",
       "      <th>2019-12-01 00:00:10</th>\n",
       "      <td>151.33</td>\n",
       "      <td>17.00000</td>\n",
       "      <td>151.37</td>\n",
       "      <td>7.00000</td>\n",
       "      <td>0.000033</td>\n",
       "      <td>0.000033</td>\n",
       "      <td>0.000099</td>\n",
       "      <td>0.000099</td>\n",
       "      <td>-0.000165</td>\n",
       "      <td>-0.000165</td>\n",
       "    </tr>\n",
       "    <tr>\n",
       "      <th>2019-12-01 00:00:11</th>\n",
       "      <td>151.33</td>\n",
       "      <td>7.00000</td>\n",
       "      <td>151.38</td>\n",
       "      <td>3.69768</td>\n",
       "      <td>0.000000</td>\n",
       "      <td>0.000033</td>\n",
       "      <td>0.000033</td>\n",
       "      <td>0.000033</td>\n",
       "      <td>-0.000198</td>\n",
       "      <td>-0.000198</td>\n",
       "    </tr>\n",
       "    <tr>\n",
       "      <th>2019-12-01 00:00:12</th>\n",
       "      <td>151.33</td>\n",
       "      <td>10.99768</td>\n",
       "      <td>151.38</td>\n",
       "      <td>3.69768</td>\n",
       "      <td>0.000000</td>\n",
       "      <td>0.000066</td>\n",
       "      <td>0.000066</td>\n",
       "      <td>-0.000066</td>\n",
       "      <td>-0.000198</td>\n",
       "      <td>-0.000198</td>\n",
       "    </tr>\n",
       "    <tr>\n",
       "      <th>...</th>\n",
       "      <td>...</td>\n",
       "      <td>...</td>\n",
       "      <td>...</td>\n",
       "      <td>...</td>\n",
       "      <td>...</td>\n",
       "      <td>...</td>\n",
       "      <td>...</td>\n",
       "      <td>...</td>\n",
       "      <td>...</td>\n",
       "      <td>...</td>\n",
       "    </tr>\n",
       "    <tr>\n",
       "      <th>2019-12-01 23:59:56</th>\n",
       "      <td>150.70</td>\n",
       "      <td>5.48999</td>\n",
       "      <td>150.75</td>\n",
       "      <td>1.71200</td>\n",
       "      <td>0.000000</td>\n",
       "      <td>0.000000</td>\n",
       "      <td>NaN</td>\n",
       "      <td>NaN</td>\n",
       "      <td>NaN</td>\n",
       "      <td>NaN</td>\n",
       "    </tr>\n",
       "    <tr>\n",
       "      <th>2019-12-01 23:59:57</th>\n",
       "      <td>150.70</td>\n",
       "      <td>5.48999</td>\n",
       "      <td>150.75</td>\n",
       "      <td>1.71200</td>\n",
       "      <td>0.000000</td>\n",
       "      <td>0.000000</td>\n",
       "      <td>NaN</td>\n",
       "      <td>NaN</td>\n",
       "      <td>NaN</td>\n",
       "      <td>NaN</td>\n",
       "    </tr>\n",
       "    <tr>\n",
       "      <th>2019-12-01 23:59:58</th>\n",
       "      <td>150.70</td>\n",
       "      <td>7.72283</td>\n",
       "      <td>150.75</td>\n",
       "      <td>21.61903</td>\n",
       "      <td>0.000000</td>\n",
       "      <td>NaN</td>\n",
       "      <td>NaN</td>\n",
       "      <td>NaN</td>\n",
       "      <td>NaN</td>\n",
       "      <td>NaN</td>\n",
       "    </tr>\n",
       "    <tr>\n",
       "      <th>2019-12-01 23:59:59</th>\n",
       "      <td>150.70</td>\n",
       "      <td>5.48999</td>\n",
       "      <td>150.75</td>\n",
       "      <td>21.61903</td>\n",
       "      <td>0.000000</td>\n",
       "      <td>NaN</td>\n",
       "      <td>NaN</td>\n",
       "      <td>NaN</td>\n",
       "      <td>NaN</td>\n",
       "      <td>NaN</td>\n",
       "    </tr>\n",
       "    <tr>\n",
       "      <th>2019-12-02 00:00:00</th>\n",
       "      <td>150.70</td>\n",
       "      <td>7.74586</td>\n",
       "      <td>150.75</td>\n",
       "      <td>19.90703</td>\n",
       "      <td>NaN</td>\n",
       "      <td>NaN</td>\n",
       "      <td>NaN</td>\n",
       "      <td>NaN</td>\n",
       "      <td>NaN</td>\n",
       "      <td>NaN</td>\n",
       "    </tr>\n",
       "  </tbody>\n",
       "</table>\n",
       "<p>86393 rows × 10 columns</p>\n",
       "</div>"
      ],
      "text/plain": [
       "                        bp1       bv1     ap1       av1     ret_1     ret_3  \\\n",
       "time                                                                          \n",
       "2019-12-01 00:00:08  151.33  10.68930  151.39  95.66954 -0.000066 -0.000033   \n",
       "2019-12-01 00:00:09  151.33   7.30000  151.37   7.00000  0.000000  0.000033   \n",
       "2019-12-01 00:00:10  151.33  17.00000  151.37   7.00000  0.000033  0.000033   \n",
       "2019-12-01 00:00:11  151.33   7.00000  151.38   3.69768  0.000000  0.000033   \n",
       "2019-12-01 00:00:12  151.33  10.99768  151.38   3.69768  0.000000  0.000066   \n",
       "...                     ...       ...     ...       ...       ...       ...   \n",
       "2019-12-01 23:59:56  150.70   5.48999  150.75   1.71200  0.000000  0.000000   \n",
       "2019-12-01 23:59:57  150.70   5.48999  150.75   1.71200  0.000000  0.000000   \n",
       "2019-12-01 23:59:58  150.70   7.72283  150.75  21.61903  0.000000       NaN   \n",
       "2019-12-01 23:59:59  150.70   5.48999  150.75  21.61903  0.000000       NaN   \n",
       "2019-12-02 00:00:00  150.70   7.74586  150.75  19.90703       NaN       NaN   \n",
       "\n",
       "                        ret_5    ret_10    ret_15    ret_30  \n",
       "time                                                         \n",
       "2019-12-01 00:00:08 -0.000033  0.000033 -0.000132 -0.000132  \n",
       "2019-12-01 00:00:09  0.000066  0.000099 -0.000066 -0.000066  \n",
       "2019-12-01 00:00:10  0.000099  0.000099 -0.000165 -0.000165  \n",
       "2019-12-01 00:00:11  0.000033  0.000033 -0.000198 -0.000198  \n",
       "2019-12-01 00:00:12  0.000066 -0.000066 -0.000198 -0.000198  \n",
       "...                       ...       ...       ...       ...  \n",
       "2019-12-01 23:59:56       NaN       NaN       NaN       NaN  \n",
       "2019-12-01 23:59:57       NaN       NaN       NaN       NaN  \n",
       "2019-12-01 23:59:58       NaN       NaN       NaN       NaN  \n",
       "2019-12-01 23:59:59       NaN       NaN       NaN       NaN  \n",
       "2019-12-02 00:00:00       NaN       NaN       NaN       NaN  \n",
       "\n",
       "[86393 rows x 10 columns]"
      ]
     },
     "execution_count": 21,
     "metadata": {},
     "output_type": "execute_result"
    }
   ],
   "source": [
    "resampled_z\n",
    "# 更严格的做法，收益率也是要做标准化的，ret_3/根号3"
   ]
  },
  {
   "cell_type": "code",
   "execution_count": 22,
   "metadata": {},
   "outputs": [
    {
     "data": {
      "text/plain": [
       "time\n",
       "2019-12-01 00:00:08   -18.997677\n",
       "2019-12-01 00:00:09     3.610700\n",
       "2019-12-01 00:00:10     9.700000\n",
       "2019-12-01 00:00:11    -8.701080\n",
       "2019-12-01 00:00:12     3.997680\n",
       "                         ...    \n",
       "2019-12-01 23:59:56    -2.153840\n",
       "2019-12-01 23:59:57     0.000000\n",
       "2019-12-01 23:59:58   -17.674190\n",
       "2019-12-01 23:59:59    -2.232840\n",
       "2019-12-02 00:00:00     3.967870\n",
       "Freq: S, Length: 86393, dtype: float64"
      ]
     },
     "execution_count": 22,
     "metadata": {},
     "output_type": "execute_result"
    }
   ],
   "source": [
    "# 看看降频后的因子和收益率的ic decay?\n",
    "# 对未来收益率的预测周期越长越好，因子的稳定性越好\n",
    "resampled_clipped\n"
   ]
  },
  {
   "cell_type": "code",
   "execution_count": 28,
   "metadata": {},
   "outputs": [
    {
     "data": {
      "text/plain": [
       "Index(['bp1', 'bv1', 'ap1', 'av1', 'ret_1', 'ret_3', 'ret_5', 'ret_10',\n",
       "       'ret_15', 'ret_30'],\n",
       "      dtype='object')"
      ]
     },
     "execution_count": 28,
     "metadata": {},
     "output_type": "execute_result"
    }
   ],
   "source": [
    "resampled_z.columns[0:]"
   ]
  },
  {
   "cell_type": "code",
   "execution_count": 29,
   "metadata": {},
   "outputs": [
    {
     "name": "stdout",
     "output_type": "stream",
     "text": [
      "[0.0607010589797475, 0.046304582371638446, 0.013527399721038317, 0.023336645088888833, 0.018263930543698636, 0.018263930543698636]\n"
     ]
    }
   ],
   "source": [
    "ic_decay_list = []\n",
    "for i in resampled_z.columns[4:]:\n",
    "    ic_decay_list.append(resampled_clipped.corr(resampled_z[i]))\n",
    "print(ic_decay_list)"
   ]
  },
  {
   "cell_type": "code",
   "execution_count": 30,
   "metadata": {},
   "outputs": [
    {
     "data": {
      "text/plain": [
       "[0.0607010589797475,\n",
       " 0.046304582371638446,\n",
       " 0.013527399721038317,\n",
       " 0.023336645088888833,\n",
       " 0.018263930543698636,\n",
       " 0.018263930543698636]"
      ]
     },
     "execution_count": 30,
     "metadata": {},
     "output_type": "execute_result"
    }
   ],
   "source": [
    "ic_decay_list"
   ]
  },
  {
   "cell_type": "code",
   "execution_count": 31,
   "metadata": {},
   "outputs": [
    {
     "data": {
      "text/plain": [
       "<Axes: >"
      ]
     },
     "execution_count": 31,
     "metadata": {},
     "output_type": "execute_result"
    },
    {
     "data": {
      "image/png": "[encoded data removed]",
      "text/plain": [
       "<Figure size 640x480 with 1 Axes>"
      ]
     },
     "metadata": {},
     "output_type": "display_data"
    }
   ],
   "source": [
    "pd.Series(ic_decay_list).plot()\n",
    "# ic decay怎么看？"
   ]
  },
  {
   "cell_type": "code",
   "execution_count": 32,
   "metadata": {},
   "outputs": [],
   "source": [
    "# 查看滚动窗口的ic变化情况\n",
    "import talib as ta\n",
    "rolling_ic = ta.CORREL(resampled_z['ret_5'].fillna(0),resampled_clipped,50000)"
   ]
  },
  {
   "cell_type": "code",
   "execution_count": 33,
   "metadata": {},
   "outputs": [
    {
     "data": {
      "text/plain": [
       "<Axes: xlabel='time'>"
      ]
     },
     "execution_count": 33,
     "metadata": {},
     "output_type": "execute_result"
    },
    {
     "data": {
      "image/png": "[encoded data removed]",
      "text/plain": [
       "<Figure size 640x480 with 1 Axes>"
      ]
     },
     "metadata": {},
     "output_type": "display_data"
    }
   ],
   "source": [
    "rolling_ic.plot()"
   ]
  },
  {
   "cell_type": "code",
   "execution_count": 34,
   "metadata": {},
   "outputs": [
    {
     "data": {
      "text/plain": [
       "<Axes: >"
      ]
     },
     "execution_count": 34,
     "metadata": {},
     "output_type": "execute_result"
    },
    {
     "data": {
      "image/png": "[encoded data removed]",
      "text/plain": [
       "<Figure size 640x480 with 1 Axes>"
      ]
     },
     "metadata": {},
     "output_type": "display_data"
    }
   ],
   "source": [
    "# 由ic decay图可知，因子和5个周期的收益率相关性最强\n",
    "# 接下来我们看看把因子值视作仓位，在5个周期上的盈利能\n",
    "resampled_clipped.hist()"
   ]
  },
  {
   "cell_type": "code",
   "execution_count": 35,
   "metadata": {},
   "outputs": [],
   "source": [
    "position = resampled_clipped/100"
   ]
  },
  {
   "cell_type": "code",
   "execution_count": 36,
   "metadata": {},
   "outputs": [
    {
     "data": {
      "text/plain": [
       "count    86393.000000\n",
       "mean        -0.005994\n",
       "std          0.249907\n",
       "min         -2.027600\n",
       "25%         -0.093709\n",
       "50%          0.000000\n",
       "75%          0.081847\n",
       "max          1.957370\n",
       "dtype: float64"
      ]
     },
     "execution_count": 36,
     "metadata": {},
     "output_type": "execute_result"
    }
   ],
   "source": [
    "position.describe()"
   ]
  },
  {
   "cell_type": "code",
   "execution_count": 37,
   "metadata": {},
   "outputs": [
    {
     "data": {
      "text/plain": [
       "<Axes: >"
      ]
     },
     "execution_count": 37,
     "metadata": {},
     "output_type": "execute_result"
    },
    {
     "data": {
      "image/png": "[encoded data removed]",
      "text/plain": [
       "<Figure size 640x480 with 1 Axes>"
      ]
     },
     "metadata": {},
     "output_type": "display_data"
    }
   ],
   "source": [
    "position.hist()"
   ]
  },
  {
   "cell_type": "code",
   "execution_count": 38,
   "metadata": {},
   "outputs": [],
   "source": [
    "net_value = 1+(position*resampled_z['ret_5'].fillna(0)).cumsum()"
   ]
  },
  {
   "cell_type": "code",
   "execution_count": 39,
   "metadata": {},
   "outputs": [
    {
     "data": {
      "text/plain": [
       "<Axes: xlabel='time'>"
      ]
     },
     "execution_count": 39,
     "metadata": {},
     "output_type": "execute_result"
    },
    {
     "data": {
      "image/png": "[encoded data removed]",
      "text/plain": [
       "<Figure size 640x480 with 1 Axes>"
      ]
     },
     "metadata": {},
     "output_type": "display_data"
    }
   ],
   "source": [
    "net_value.plot()\n",
    "# 说明这个因子的盈亏比非常好"
   ]
  },
  {
   "cell_type": "code",
   "execution_count": 40,
   "metadata": {},
   "outputs": [],
   "source": [
    "spread = np.mean(z.ap1-z.bp1)"
   ]
  },
  {
   "cell_type": "code",
   "execution_count": 41,
   "metadata": {},
   "outputs": [
    {
     "data": {
      "text/plain": [
       "0.062034640624488206"
      ]
     },
     "execution_count": 41,
     "metadata": {},
     "output_type": "execute_result"
    }
   ],
   "source": [
    "spread"
   ]
  },
  {
   "cell_type": "code",
   "execution_count": 42,
   "metadata": {},
   "outputs": [],
   "source": [
    "# 那么我们扣掉手续费呢\n",
    "net_value_after_fee = 1+(position*resampled_z['ret_5'].fillna(0)*0.9996).cumsum()\n"
   ]
  },
  {
   "cell_type": "code",
   "execution_count": 43,
   "metadata": {},
   "outputs": [
    {
     "data": {
      "text/plain": [
       "time\n",
       "2019-12-01 00:00:08    1.000006\n",
       "2019-12-01 00:00:09    1.000009\n",
       "2019-12-01 00:00:10    1.000018\n",
       "2019-12-01 00:00:11    1.000015\n",
       "2019-12-01 00:00:12    1.000018\n",
       "                         ...   \n",
       "2019-12-01 23:59:56    1.080016\n",
       "2019-12-01 23:59:57    1.080016\n",
       "2019-12-01 23:59:58    1.080016\n",
       "2019-12-01 23:59:59    1.080016\n",
       "2019-12-02 00:00:00    1.080016\n",
       "Freq: S, Length: 86393, dtype: float64"
      ]
     },
     "execution_count": 43,
     "metadata": {},
     "output_type": "execute_result"
    }
   ],
   "source": [
    "net_value_after_fee"
   ]
  },
  {
   "cell_type": "code",
   "execution_count": 44,
   "metadata": {},
   "outputs": [
    {
     "data": {
      "text/plain": [
       "<Axes: xlabel='time'>"
      ]
     },
     "execution_count": 44,
     "metadata": {},
     "output_type": "execute_result"
    },
    {
     "data": {
      "image/png": "[encoded data removed]",
      "text/plain": [
       "<Figure size 640x480 with 1 Axes>"
      ]
     },
     "metadata": {},
     "output_type": "display_data"
    }
   ],
   "source": [
    "net_value_after_fee.plot()\n"
   ]
  },
  {
   "cell_type": "code",
   "execution_count": 45,
   "metadata": {},
   "outputs": [],
   "source": [
    "# 如果扣除滑点成本呢？\n",
    "net_value_after_fee_and_spread = 1+(position*resampled_z['ret_5'].fillna(0)*0.9996-spread).cumsum()\n",
    "\n",
    "\n"
   ]
  },
  {
   "cell_type": "code",
   "execution_count": 46,
   "metadata": {},
   "outputs": [
    {
     "data": {
      "text/plain": [
       "time\n",
       "2019-12-01 00:00:08       0.937972\n",
       "2019-12-01 00:00:09       0.875939\n",
       "2019-12-01 00:00:10       0.813914\n",
       "2019-12-01 00:00:11       0.751877\n",
       "2019-12-01 00:00:12       0.689845\n",
       "                          ...     \n",
       "2019-12-01 23:59:56   -5358.030553\n",
       "2019-12-01 23:59:57   -5358.092587\n",
       "2019-12-01 23:59:58   -5358.154622\n",
       "2019-12-01 23:59:59   -5358.216657\n",
       "2019-12-02 00:00:00   -5358.278691\n",
       "Freq: S, Length: 86393, dtype: float64"
      ]
     },
     "execution_count": 46,
     "metadata": {},
     "output_type": "execute_result"
    }
   ],
   "source": [
    "net_value_after_fee_and_spread"
   ]
  },
  {
   "cell_type": "code",
   "execution_count": 47,
   "metadata": {},
   "outputs": [
    {
     "data": {
      "text/plain": [
       "<Axes: xlabel='time'>"
      ]
     },
     "execution_count": 47,
     "metadata": {},
     "output_type": "execute_result"
    },
    {
     "data": {
      "image/png": "[encoded data removed]",
      "text/plain": [
       "<Figure size 640x480 with 1 Axes>"
      ]
     },
     "metadata": {},
     "output_type": "display_data"
    }
   ],
   "source": [
    "# 滑点比手续费更吃利润\n",
    "net_value_after_fee_and_spread.plot()"
   ]
  },
  {
   "cell_type": "code",
   "execution_count": 48,
   "metadata": {},
   "outputs": [
    {
     "data": {
      "text/plain": [
       "<Axes: >"
      ]
     },
     "execution_count": 48,
     "metadata": {},
     "output_type": "execute_result"
    },
    {
     "data": {
      "image/png": "[encoded data removed]",
      "text/plain": [
       "<Figure size 640x480 with 1 Axes>"
      ]
     },
     "metadata": {},
     "output_type": "display_data"
    }
   ],
   "source": [
    "# 优化方向一：只在因子大于一定阈值时才开仓(开仓)\n",
    "position.hist()"
   ]
  },
  {
   "cell_type": "code",
   "execution_count": 49,
   "metadata": {},
   "outputs": [],
   "source": [
    "binning_position = ((position>0.5)&(position<-0.5))*position"
   ]
  },
  {
   "cell_type": "code",
   "execution_count": 50,
   "metadata": {},
   "outputs": [
    {
     "name": "stdout",
     "output_type": "stream",
     "text": [
      "time\n",
      "2019-12-01 00:00:08   -0.189977\n",
      "2019-12-01 00:00:09    0.036107\n",
      "2019-12-01 00:00:10    0.097000\n",
      "2019-12-01 00:00:11   -0.087011\n",
      "2019-12-01 00:00:12    0.039977\n",
      "                         ...   \n",
      "2019-12-01 23:59:56   -0.021538\n",
      "2019-12-01 23:59:57    0.000000\n",
      "2019-12-01 23:59:58   -0.176742\n",
      "2019-12-01 23:59:59   -0.022328\n",
      "2019-12-02 00:00:00    0.039679\n",
      "Freq: S, Length: 86393, dtype: float64\n"
     ]
    }
   ],
   "source": [
    "print(position)"
   ]
  },
  {
   "cell_type": "code",
   "execution_count": 51,
   "metadata": {},
   "outputs": [
    {
     "data": {
      "text/plain": [
       "<Axes: >"
      ]
     },
     "execution_count": 51,
     "metadata": {},
     "output_type": "execute_result"
    },
    {
     "data": {
      "image/png": "[encoded data removed]",
      "text/plain": [
       "<Figure size 640x480 with 1 Axes>"
      ]
     },
     "metadata": {},
     "output_type": "display_data"
    }
   ],
   "source": [
    "binning_position.hist()"
   ]
  },
  {
   "cell_type": "code",
   "execution_count": 52,
   "metadata": {},
   "outputs": [],
   "source": [
    "# 分箱后扣除滑点成本呢？\n",
    "net_value_after_binning = 1+((binning_position!=0)*binning_position*resampled_z['ret_5'].fillna(0)*0.9996-spread).cumsum()"
   ]
  },
  {
   "cell_type": "code",
   "execution_count": 53,
   "metadata": {},
   "outputs": [
    {
     "data": {
      "text/plain": [
       "time\n",
       "2019-12-01 00:00:08       0.937965\n",
       "2019-12-01 00:00:09       0.875931\n",
       "2019-12-01 00:00:10       0.813896\n",
       "2019-12-01 00:00:11       0.751861\n",
       "2019-12-01 00:00:12       0.689827\n",
       "                          ...     \n",
       "2019-12-01 23:59:56   -5358.110569\n",
       "2019-12-01 23:59:57   -5358.172604\n",
       "2019-12-01 23:59:58   -5358.234638\n",
       "2019-12-01 23:59:59   -5358.296673\n",
       "2019-12-02 00:00:00   -5358.358707\n",
       "Freq: S, Length: 86393, dtype: float64"
      ]
     },
     "execution_count": 53,
     "metadata": {},
     "output_type": "execute_result"
    }
   ],
   "source": [
    "net_value_after_binning"
   ]
  },
  {
   "cell_type": "code",
   "execution_count": 54,
   "metadata": {},
   "outputs": [
    {
     "data": {
      "text/plain": [
       "<Axes: xlabel='time'>"
      ]
     },
     "execution_count": 54,
     "metadata": {},
     "output_type": "execute_result"
    },
    {
     "data": {
      "image/png": "[encoded data removed]",
      "text/plain": [
       "<Figure size 640x480 with 1 Axes>"
      ]
     },
     "metadata": {},
     "output_type": "display_data"
    }
   ],
   "source": [
    "net_value_after_binning.plot()"
   ]
  },
  {
   "cell_type": "code",
   "execution_count": 55,
   "metadata": {},
   "outputs": [],
   "source": [
    "# 优化方向二：打单变挂单\n",
    "list_price = (position>0)*resampled_z.bp1 + (position<0)*resampled_z.ap1 "
   ]
  },
  {
   "cell_type": "code",
   "execution_count": 56,
   "metadata": {},
   "outputs": [],
   "source": [
    "# 假设挂单可以成交，那么\n",
    "ret_5 = midprice.shift(-5)/list_price-1"
   ]
  },
  {
   "cell_type": "code",
   "execution_count": 57,
   "metadata": {},
   "outputs": [],
   "source": [
    "net_value_after_fee_and_spread_buylist = 1+(ret_5.fillna(0)*position*0.9996-spread).cumsum()"
   ]
  },
  {
   "cell_type": "code",
   "execution_count": 58,
   "metadata": {},
   "outputs": [
    {
     "data": {
      "text/plain": [
       "time\n",
       "2019-12-01 00:00:08       0.938009\n",
       "2019-12-01 00:00:09       0.875982\n",
       "2019-12-01 00:00:10       0.813970\n",
       "2019-12-01 00:00:11       0.751946\n",
       "2019-12-01 00:00:12       0.689921\n",
       "                          ...     \n",
       "2019-12-01 23:59:56   -4716.479949\n",
       "2019-12-01 23:59:57   -4716.541983\n",
       "2019-12-01 23:59:58   -4716.604018\n",
       "2019-12-01 23:59:59   -4716.666053\n",
       "2019-12-02 00:00:00   -4716.728087\n",
       "Freq: S, Length: 86393, dtype: float64"
      ]
     },
     "execution_count": 58,
     "metadata": {},
     "output_type": "execute_result"
    }
   ],
   "source": [
    "net_value_after_fee_and_spread_buylist"
   ]
  },
  {
   "cell_type": "code",
   "execution_count": 59,
   "metadata": {},
   "outputs": [
    {
     "data": {
      "text/plain": [
       "<Axes: xlabel='time'>"
      ]
     },
     "execution_count": 59,
     "metadata": {},
     "output_type": "execute_result"
    },
    {
     "data": {
      "image/png": "[encoded data removed]",
      "text/plain": [
       "<Figure size 640x480 with 1 Axes>"
      ]
     },
     "metadata": {},
     "output_type": "display_data"
    }
   ],
   "source": [
    "# 挂单是否能成交？\n",
    "# 跟随信号调整挂撤单\n",
    "net_value_after_fee_and_spread_buylist.plot()"
   ]
  }
 ],
 "metadata": {
  "kernelspec": {
   "display_name": "quant",
   "language": "python",
   "name": "python3"
  },
  "language_info": {
   "codemirror_mode": {
    "name": "ipython",
    "version": 3
   },
   "file_extension": ".py",
   "mimetype": "text/x-python",
   "name": "python",
   "nbconvert_exporter": "python",
   "pygments_lexer": "ipython3",
   "version": "3.8.12"
  }
 },
 "nbformat": 4,
 "nbformat_minor": 2
}
